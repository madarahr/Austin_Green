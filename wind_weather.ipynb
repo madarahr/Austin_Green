{
 "cells": [
  {
   "cell_type": "code",
   "execution_count": 1,
   "metadata": {},
   "outputs": [],
   "source": [
    "# Initial Imports\n",
    "import requests\n",
    "import pandas as pd\n",
    "import json\n",
    "import numpy as np\n",
    "from path import Path\n",
    "from datetime import datetime\n",
    "from datetime import timedelta\n",
    "from sklearn.preprocessing import LabelEncoder\n",
    "le = LabelEncoder()\n",
    "from sklearn import tree\n",
    "from sklearn.model_selection import train_test_split\n",
    "from sklearn.metrics import confusion_matrix, accuracy_score, classification_report"
   ]
  },
  {
   "cell_type": "code",
   "execution_count": 2,
   "metadata": {},
   "outputs": [],
   "source": [
    "# Import API Key\n",
    "from config import key\n",
    "\n",
    "# Documentation:\n",
    "#https://www.worldweatheronline.com/developer/my/analytics.aspx?key_id=222419"
   ]
  },
  {
   "cell_type": "code",
   "execution_count": 3,
   "metadata": {},
   "outputs": [],
   "source": [
    "# Make a request to the worldweatheronline local history weather API page\n",
    "def makeARequest(location, startDate, endDate, yourAPIKey):\n",
    "    baseURL = \"http://api.worldweatheronline.com/premium/v1/past-weather.ashx\"\n",
    "    timeInterval = \"1\"\n",
    "    outputFormatToReturn = \"json\"\n",
    "\n",
    "    requestURL = f\"{baseURL}?q={location}&date={startDate}&enddate={endDate}&tp={timeInterval}&format={outputFormatToReturn}&key={yourAPIKey}\"\n",
    "    \n",
    "    response = requests.get(requestURL)\n",
    "\n",
    "    if response.status_code == 200:\n",
    "        responseJson = response.json()\n",
    "        return responseJson\n",
    "    else:\n",
    "        return print(response.status_code)"
   ]
  },
  {
   "cell_type": "code",
   "execution_count": 4,
   "metadata": {},
   "outputs": [],
   "source": [
    "# Pull the wind variables from the responseJson \n",
    "def monthlyHistoricalWeather(firstDayOfMonth, lastDayOfMonth, jsonResponse):\n",
    "    \n",
    "    first = datetime.strptime(firstDayOfMonth, '%Y-%m-%d')\n",
    "    last = datetime.strptime(lastDayOfMonth, '%Y-%m-%d')\n",
    "    numberOfDays = last.day - first.day\n",
    "\n",
    "    HourlyHistoricalWeather = []\n",
    "    \n",
    "    for day in np.arange(0,numberOfDays + 1,1):\n",
    "        for hour in np.arange(0,24,1):\n",
    "            HourlyHistoricalWeather.append({\n",
    "                \"Date\" : jsonResponse[\"data\"][\"weather\"][day][\"date\"],\n",
    "                \"Time\" : jsonResponse[\"data\"][\"weather\"][day][\"hourly\"][hour][\"time\"],\n",
    "                \"WindSpeed(mph)\" : jsonResponse[\"data\"][\"weather\"][day][\"hourly\"][hour][\"windspeedMiles\"],\n",
    "                \"WindDirection(Degrees)\" : jsonResponse[\"data\"][\"weather\"][day][\"hourly\"][hour][\"winddirDegree\"],\n",
    "                \"WindDirection(Compass)\" : jsonResponse[\"data\"][\"weather\"][day][\"hourly\"][hour][\"winddir16Point\"],\n",
    "                \"WindGust(mph)\" : jsonResponse[\"data\"][\"weather\"][day][\"hourly\"][hour][\"WindGustMiles\"]\n",
    "            })\n",
    "\n",
    "    return HourlyHistoricalWeather"
   ]
  },
  {
   "cell_type": "code",
   "execution_count": 5,
   "metadata": {},
   "outputs": [],
   "source": [
    "\n",
    "# Store the variables in a DataFrame\n",
    "def monthlyHistoricalWeatherDF(month):\n",
    "    weatherDataFrame = pd.DataFrame(month)\n",
    "    return weatherDataFrame"
   ]
  },
  {
   "cell_type": "code",
   "execution_count": 6,
   "metadata": {},
   "outputs": [],
   "source": [
    "# Define the Latitude and longitude of Hackberry Wind Farm\n",
    "    # https://www.thewindpower.net/windfarm_en_4012_hackberry.php\n",
    "    # Latitude: 32.776111\n",
    "    # Longitude: -99.476444\n",
    "latLong = \"32.776111,-99.476444\""
   ]
  },
  {
   "cell_type": "code",
   "execution_count": 7,
   "metadata": {},
   "outputs": [
    {
     "data": {
      "text/html": [
       "<div>\n",
       "<style scoped>\n",
       "    .dataframe tbody tr th:only-of-type {\n",
       "        vertical-align: middle;\n",
       "    }\n",
       "\n",
       "    .dataframe tbody tr th {\n",
       "        vertical-align: top;\n",
       "    }\n",
       "\n",
       "    .dataframe thead th {\n",
       "        text-align: right;\n",
       "    }\n",
       "</style>\n",
       "<table border=\"1\" class=\"dataframe\">\n",
       "  <thead>\n",
       "    <tr style=\"text-align: right;\">\n",
       "      <th></th>\n",
       "      <th>Date</th>\n",
       "      <th>Time</th>\n",
       "      <th>WindSpeed(mph)</th>\n",
       "      <th>WindDirection(Degrees)</th>\n",
       "      <th>WindDirection(Compass)</th>\n",
       "      <th>WindGust(mph)</th>\n",
       "    </tr>\n",
       "  </thead>\n",
       "  <tbody>\n",
       "    <tr>\n",
       "      <th>0</th>\n",
       "      <td>2019-01-01</td>\n",
       "      <td>0</td>\n",
       "      <td>12</td>\n",
       "      <td>126</td>\n",
       "      <td>SE</td>\n",
       "      <td>24</td>\n",
       "    </tr>\n",
       "    <tr>\n",
       "      <th>1</th>\n",
       "      <td>2019-01-01</td>\n",
       "      <td>100</td>\n",
       "      <td>13</td>\n",
       "      <td>89</td>\n",
       "      <td>E</td>\n",
       "      <td>23</td>\n",
       "    </tr>\n",
       "    <tr>\n",
       "      <th>2</th>\n",
       "      <td>2019-01-01</td>\n",
       "      <td>200</td>\n",
       "      <td>14</td>\n",
       "      <td>53</td>\n",
       "      <td>NE</td>\n",
       "      <td>23</td>\n",
       "    </tr>\n",
       "    <tr>\n",
       "      <th>3</th>\n",
       "      <td>2019-01-01</td>\n",
       "      <td>300</td>\n",
       "      <td>15</td>\n",
       "      <td>17</td>\n",
       "      <td>NNE</td>\n",
       "      <td>22</td>\n",
       "    </tr>\n",
       "    <tr>\n",
       "      <th>4</th>\n",
       "      <td>2019-01-01</td>\n",
       "      <td>400</td>\n",
       "      <td>14</td>\n",
       "      <td>18</td>\n",
       "      <td>NNE</td>\n",
       "      <td>21</td>\n",
       "    </tr>\n",
       "  </tbody>\n",
       "</table>\n",
       "</div>"
      ],
      "text/plain": [
       "         Date Time WindSpeed(mph) WindDirection(Degrees)  \\\n",
       "0  2019-01-01    0             12                    126   \n",
       "1  2019-01-01  100             13                     89   \n",
       "2  2019-01-01  200             14                     53   \n",
       "3  2019-01-01  300             15                     17   \n",
       "4  2019-01-01  400             14                     18   \n",
       "\n",
       "  WindDirection(Compass) WindGust(mph)  \n",
       "0                     SE            24  \n",
       "1                      E            23  \n",
       "2                     NE            23  \n",
       "3                    NNE            22  \n",
       "4                    NNE            21  "
      ]
     },
     "execution_count": 7,
     "metadata": {},
     "output_type": "execute_result"
    }
   ],
   "source": [
    "# January\n",
    "date = \"2019-01-01\"\n",
    "enddate = \"2019-01-31\"\n",
    "\n",
    "responseJson = makeARequest(latLong, date, enddate, key)\n",
    "\n",
    "January = monthlyHistoricalWeather(date, enddate, responseJson)\n",
    "JanuaryDF = monthlyHistoricalWeatherDF(January)\n",
    "JanuaryDF.head()"
   ]
  },
  {
   "cell_type": "code",
   "execution_count": 8,
   "metadata": {},
   "outputs": [],
   "source": [
    "# February\n",
    "date = \"2019-02-01\"\n",
    "enddate = \"2019-02-28\"\n",
    "\n",
    "responseJson = makeARequest(latLong, date, enddate, key)\n",
    "\n",
    "February = monthlyHistoricalWeather(date, enddate, responseJson)\n",
    "FebruaryDF = monthlyHistoricalWeatherDF(February)"
   ]
  },
  {
   "cell_type": "code",
   "execution_count": 9,
   "metadata": {},
   "outputs": [],
   "source": [
    "\n",
    "# March\n",
    "date = \"2019-03-01\"\n",
    "enddate = \"2019-03-31\"\n",
    "\n",
    "responseJson = makeARequest(latLong, date, enddate, key)\n",
    "\n",
    "March = monthlyHistoricalWeather(date, enddate, responseJson)\n",
    "MarchDF = monthlyHistoricalWeatherDF(March)"
   ]
  },
  {
   "cell_type": "code",
   "execution_count": 10,
   "metadata": {},
   "outputs": [],
   "source": [
    "# April\n",
    "date = \"2019-04-01\"\n",
    "enddate = \"2019-04-30\"\n",
    "\n",
    "responseJson = makeARequest(latLong, date, enddate, key)\n",
    "\n",
    "April = monthlyHistoricalWeather(date, enddate, responseJson)\n",
    "AprilDF = monthlyHistoricalWeatherDF(April)"
   ]
  },
  {
   "cell_type": "code",
   "execution_count": 11,
   "metadata": {},
   "outputs": [],
   "source": [
    "\n",
    "# May\n",
    "date = \"2019-05-01\"\n",
    "enddate = \"2019-05-31\"\n",
    "\n",
    "responseJson = makeARequest(latLong, date, enddate, key)\n",
    "\n",
    "May = monthlyHistoricalWeather(date, enddate, responseJson)\n",
    "MayDF = monthlyHistoricalWeatherDF(May)"
   ]
  },
  {
   "cell_type": "code",
   "execution_count": 12,
   "metadata": {},
   "outputs": [],
   "source": [
    "# June\n",
    "date = \"2019-06-01\"\n",
    "enddate = \"2019-06-30\"\n",
    "\n",
    "responseJson = makeARequest(latLong, date, enddate, key)\n",
    "\n",
    "June = monthlyHistoricalWeather(date, enddate, responseJson)\n",
    "JuneDF = monthlyHistoricalWeatherDF(June)"
   ]
  },
  {
   "cell_type": "code",
   "execution_count": 13,
   "metadata": {},
   "outputs": [],
   "source": [
    "\n",
    "# July\n",
    "date = \"2019-07-01\"\n",
    "enddate = \"2019-07-31\"\n",
    "\n",
    "responseJson = makeARequest(latLong, date, enddate, key)\n",
    "\n",
    "July = monthlyHistoricalWeather(date, enddate, responseJson)\n",
    "JulyDF = monthlyHistoricalWeatherDF(July)"
   ]
  },
  {
   "cell_type": "code",
   "execution_count": 14,
   "metadata": {},
   "outputs": [],
   "source": [
    "# August\n",
    "date = \"2019-08-01\"\n",
    "enddate = \"2019-08-31\"\n",
    "\n",
    "responseJson = makeARequest(latLong, date, enddate, key)\n",
    "\n",
    "August = monthlyHistoricalWeather(date, enddate, responseJson)\n",
    "AugustDF = monthlyHistoricalWeatherDF(August)"
   ]
  },
  {
   "cell_type": "code",
   "execution_count": 15,
   "metadata": {},
   "outputs": [],
   "source": [
    "# September\n",
    "date = \"2019-09-01\"\n",
    "enddate = \"2019-09-30\"\n",
    "\n",
    "responseJson = makeARequest(latLong, date, enddate, key)\n",
    "\n",
    "September = monthlyHistoricalWeather(date, enddate, responseJson)\n",
    "SeptemberDF = monthlyHistoricalWeatherDF(September)"
   ]
  },
  {
   "cell_type": "code",
   "execution_count": 16,
   "metadata": {},
   "outputs": [],
   "source": [
    "# October\n",
    "date = \"2019-10-01\"\n",
    "enddate = \"2019-10-31\"\n",
    "\n",
    "responseJson = makeARequest(latLong, date, enddate, key)\n",
    "\n",
    "October = monthlyHistoricalWeather(date, enddate, responseJson)\n",
    "OctoberDF = monthlyHistoricalWeatherDF(October)"
   ]
  },
  {
   "cell_type": "code",
   "execution_count": 17,
   "metadata": {},
   "outputs": [],
   "source": [
    "# November\n",
    "date = \"2019-11-01\"\n",
    "enddate = \"2019-11-30\"\n",
    "\n",
    "responseJson = makeARequest(latLong, date, enddate, key)\n",
    "\n",
    "November = monthlyHistoricalWeather(date, enddate, responseJson)\n",
    "NovemberDF = monthlyHistoricalWeatherDF(November)"
   ]
  },
  {
   "cell_type": "code",
   "execution_count": 18,
   "metadata": {},
   "outputs": [],
   "source": [
    "# December\n",
    "date = \"2019-12-01\"\n",
    "enddate = \"2019-12-31\"\n",
    "\n",
    "responseJson = makeARequest(latLong, date, enddate, key)\n",
    "\n",
    "December = monthlyHistoricalWeather(date, enddate, responseJson)\n",
    "DecemberDF = monthlyHistoricalWeatherDF(December)"
   ]
  },
  {
   "cell_type": "code",
   "execution_count": 19,
   "metadata": {},
   "outputs": [
    {
     "data": {
      "text/html": [
       "<div>\n",
       "<style scoped>\n",
       "    .dataframe tbody tr th:only-of-type {\n",
       "        vertical-align: middle;\n",
       "    }\n",
       "\n",
       "    .dataframe tbody tr th {\n",
       "        vertical-align: top;\n",
       "    }\n",
       "\n",
       "    .dataframe thead th {\n",
       "        text-align: right;\n",
       "    }\n",
       "</style>\n",
       "<table border=\"1\" class=\"dataframe\">\n",
       "  <thead>\n",
       "    <tr style=\"text-align: right;\">\n",
       "      <th></th>\n",
       "      <th>Date</th>\n",
       "      <th>Time</th>\n",
       "      <th>WindSpeed(mph)</th>\n",
       "      <th>WindDirection(Degrees)</th>\n",
       "      <th>WindDirection(Compass)</th>\n",
       "      <th>WindGust(mph)</th>\n",
       "    </tr>\n",
       "  </thead>\n",
       "  <tbody>\n",
       "    <tr>\n",
       "      <th>0</th>\n",
       "      <td>2019-01-01</td>\n",
       "      <td>0</td>\n",
       "      <td>12</td>\n",
       "      <td>126</td>\n",
       "      <td>SE</td>\n",
       "      <td>24</td>\n",
       "    </tr>\n",
       "    <tr>\n",
       "      <th>1</th>\n",
       "      <td>2019-01-01</td>\n",
       "      <td>100</td>\n",
       "      <td>13</td>\n",
       "      <td>89</td>\n",
       "      <td>E</td>\n",
       "      <td>23</td>\n",
       "    </tr>\n",
       "    <tr>\n",
       "      <th>2</th>\n",
       "      <td>2019-01-01</td>\n",
       "      <td>200</td>\n",
       "      <td>14</td>\n",
       "      <td>53</td>\n",
       "      <td>NE</td>\n",
       "      <td>23</td>\n",
       "    </tr>\n",
       "    <tr>\n",
       "      <th>3</th>\n",
       "      <td>2019-01-01</td>\n",
       "      <td>300</td>\n",
       "      <td>15</td>\n",
       "      <td>17</td>\n",
       "      <td>NNE</td>\n",
       "      <td>22</td>\n",
       "    </tr>\n",
       "    <tr>\n",
       "      <th>4</th>\n",
       "      <td>2019-01-01</td>\n",
       "      <td>400</td>\n",
       "      <td>14</td>\n",
       "      <td>18</td>\n",
       "      <td>NNE</td>\n",
       "      <td>21</td>\n",
       "    </tr>\n",
       "    <tr>\n",
       "      <th>...</th>\n",
       "      <td>...</td>\n",
       "      <td>...</td>\n",
       "      <td>...</td>\n",
       "      <td>...</td>\n",
       "      <td>...</td>\n",
       "      <td>...</td>\n",
       "    </tr>\n",
       "    <tr>\n",
       "      <th>8755</th>\n",
       "      <td>2019-12-31</td>\n",
       "      <td>1900</td>\n",
       "      <td>6</td>\n",
       "      <td>175</td>\n",
       "      <td>S</td>\n",
       "      <td>12</td>\n",
       "    </tr>\n",
       "    <tr>\n",
       "      <th>8756</th>\n",
       "      <td>2019-12-31</td>\n",
       "      <td>2000</td>\n",
       "      <td>6</td>\n",
       "      <td>176</td>\n",
       "      <td>S</td>\n",
       "      <td>13</td>\n",
       "    </tr>\n",
       "    <tr>\n",
       "      <th>8757</th>\n",
       "      <td>2019-12-31</td>\n",
       "      <td>2100</td>\n",
       "      <td>7</td>\n",
       "      <td>176</td>\n",
       "      <td>S</td>\n",
       "      <td>14</td>\n",
       "    </tr>\n",
       "    <tr>\n",
       "      <th>8758</th>\n",
       "      <td>2019-12-31</td>\n",
       "      <td>2200</td>\n",
       "      <td>7</td>\n",
       "      <td>176</td>\n",
       "      <td>S</td>\n",
       "      <td>15</td>\n",
       "    </tr>\n",
       "    <tr>\n",
       "      <th>8759</th>\n",
       "      <td>2019-12-31</td>\n",
       "      <td>2300</td>\n",
       "      <td>7</td>\n",
       "      <td>175</td>\n",
       "      <td>S</td>\n",
       "      <td>16</td>\n",
       "    </tr>\n",
       "  </tbody>\n",
       "</table>\n",
       "<p>8760 rows × 6 columns</p>\n",
       "</div>"
      ],
      "text/plain": [
       "            Date  Time WindSpeed(mph) WindDirection(Degrees)  \\\n",
       "0     2019-01-01     0             12                    126   \n",
       "1     2019-01-01   100             13                     89   \n",
       "2     2019-01-01   200             14                     53   \n",
       "3     2019-01-01   300             15                     17   \n",
       "4     2019-01-01   400             14                     18   \n",
       "...          ...   ...            ...                    ...   \n",
       "8755  2019-12-31  1900              6                    175   \n",
       "8756  2019-12-31  2000              6                    176   \n",
       "8757  2019-12-31  2100              7                    176   \n",
       "8758  2019-12-31  2200              7                    176   \n",
       "8759  2019-12-31  2300              7                    175   \n",
       "\n",
       "     WindDirection(Compass) WindGust(mph)  \n",
       "0                        SE            24  \n",
       "1                         E            23  \n",
       "2                        NE            23  \n",
       "3                       NNE            22  \n",
       "4                       NNE            21  \n",
       "...                     ...           ...  \n",
       "8755                      S            12  \n",
       "8756                      S            13  \n",
       "8757                      S            14  \n",
       "8758                      S            15  \n",
       "8759                      S            16  \n",
       "\n",
       "[8760 rows x 6 columns]"
      ]
     },
     "execution_count": 19,
     "metadata": {},
     "output_type": "execute_result"
    }
   ],
   "source": [
    "# Combine each month into a single DataFrame\n",
    "hourlyWeatherDF2019 = JanuaryDF.append([FebruaryDF, MarchDF, AprilDF, MayDF, JuneDF, JulyDF, AugustDF, SeptemberDF, OctoberDF, NovemberDF, DecemberDF]) \n",
    "index = np.arange(0,24*365,1)\n",
    "hourlyWeatherDF2019 = hourlyWeatherDF2019.set_index(index)\n",
    "hourlyWeatherDF2019"
   ]
  },
  {
   "cell_type": "code",
   "execution_count": 20,
   "metadata": {},
   "outputs": [
    {
     "data": {
      "text/plain": [
       "Date                      object\n",
       "Time                      object\n",
       "WindSpeed(mph)            object\n",
       "WindDirection(Degrees)    object\n",
       "WindDirection(Compass)    object\n",
       "WindGust(mph)             object\n",
       "dtype: object"
      ]
     },
     "execution_count": 20,
     "metadata": {},
     "output_type": "execute_result"
    }
   ],
   "source": [
    "hourlyWeatherDF2019.dtypes"
   ]
  },
  {
   "cell_type": "markdown",
   "metadata": {},
   "source": [
    "# Performing ETL on Wind Data at Hackberry Wind Farm"
   ]
  },
  {
   "cell_type": "code",
   "execution_count": 21,
   "metadata": {},
   "outputs": [],
   "source": [
    "hourlyWeatherDF2019['Date'] = pd.to_datetime(hourlyWeatherDF2019['Date'] )"
   ]
  },
  {
   "cell_type": "code",
   "execution_count": 22,
   "metadata": {},
   "outputs": [
    {
     "data": {
      "text/plain": [
       "Date                      datetime64[ns]\n",
       "Time                              object\n",
       "WindSpeed(mph)                    object\n",
       "WindDirection(Degrees)            object\n",
       "WindDirection(Compass)            object\n",
       "WindGust(mph)                     object\n",
       "dtype: object"
      ]
     },
     "execution_count": 22,
     "metadata": {},
     "output_type": "execute_result"
    }
   ],
   "source": [
    "hourlyWeatherDF2019.dtypes"
   ]
  },
  {
   "cell_type": "code",
   "execution_count": 23,
   "metadata": {},
   "outputs": [],
   "source": [
    "hourlyWeatherDF2019['Time'] = hourlyWeatherDF2019['Time'].astype(int)"
   ]
  },
  {
   "cell_type": "code",
   "execution_count": 24,
   "metadata": {},
   "outputs": [],
   "source": [
    "hourlyWeatherDF2019['Time'] = hourlyWeatherDF2019['Time']/100"
   ]
  },
  {
   "cell_type": "code",
   "execution_count": 25,
   "metadata": {},
   "outputs": [],
   "source": [
    "hourlyWeatherDF2019['Time'] = hourlyWeatherDF2019['Time'].astype(int)"
   ]
  },
  {
   "cell_type": "code",
   "execution_count": 26,
   "metadata": {},
   "outputs": [],
   "source": [
    "hourlyWeatherDF2019['time'] =pd.to_timedelta(hourlyWeatherDF2019['Time'], unit='h')"
   ]
  },
  {
   "cell_type": "code",
   "execution_count": 27,
   "metadata": {},
   "outputs": [],
   "source": [
    "# Creating new column called 'hour' in timedelta format without date\n",
    "hourlyWeatherDF2019['time'] = hourlyWeatherDF2019['time'] - pd.to_timedelta(hourlyWeatherDF2019['time'].dt.days, unit='d')"
   ]
  },
  {
   "cell_type": "code",
   "execution_count": 28,
   "metadata": {},
   "outputs": [
    {
     "data": {
      "text/plain": [
       "Date                       datetime64[ns]\n",
       "Time                                int32\n",
       "WindSpeed(mph)                     object\n",
       "WindDirection(Degrees)             object\n",
       "WindDirection(Compass)             object\n",
       "WindGust(mph)                      object\n",
       "time                      timedelta64[ns]\n",
       "dtype: object"
      ]
     },
     "execution_count": 28,
     "metadata": {},
     "output_type": "execute_result"
    }
   ],
   "source": [
    "hourlyWeatherDF2019.dtypes"
   ]
  },
  {
   "cell_type": "code",
   "execution_count": 29,
   "metadata": {},
   "outputs": [],
   "source": [
    "# Combining Date and hour to a single column as they are in datetime and timedelta formats\n",
    "hourlyWeatherDF2019['time_combined'] = hourlyWeatherDF2019['Date'] + hourlyWeatherDF2019['time']"
   ]
  },
  {
   "cell_type": "code",
   "execution_count": 30,
   "metadata": {},
   "outputs": [],
   "source": [
    "# Dropping the original 'Time' column from \n",
    "hourlyWeatherDF2019 = hourlyWeatherDF2019.drop(['Time', 'Date', 'time'], 1)"
   ]
  },
  {
   "cell_type": "code",
   "execution_count": 31,
   "metadata": {},
   "outputs": [],
   "source": [
    "# Renaming column names.\n",
    "hourlyWeatherDF2019.rename(columns = {'time_combined':'time', 'WindSpeed(mph)':'WindSpeed_mph', 'WindDirection(Degrees)':'WindDirection_degrees', 'WindDirection(Compass)':'WindDirection_compass', 'WindGust(mph)':'WindGust_mph'}, inplace = True)"
   ]
  },
  {
   "cell_type": "code",
   "execution_count": 32,
   "metadata": {},
   "outputs": [],
   "source": [
    "# Re-arranging the column headers\n",
    "hourlyWeatherDF2019 = hourlyWeatherDF2019[['time', 'WindSpeed_mph', 'WindDirection_degrees', 'WindDirection_compass', 'WindGust_mph']]"
   ]
  },
  {
   "cell_type": "code",
   "execution_count": 33,
   "metadata": {},
   "outputs": [],
   "source": [
    "hourlyWeatherDF2019['WindSpeed_mph'] = hourlyWeatherDF2019['WindSpeed_mph'].astype(int)"
   ]
  },
  {
   "cell_type": "code",
   "execution_count": 34,
   "metadata": {},
   "outputs": [],
   "source": [
    "hourlyWeatherDF2019['WindDirection_degrees'] = hourlyWeatherDF2019['WindDirection_degrees'].astype(int)"
   ]
  },
  {
   "cell_type": "code",
   "execution_count": 35,
   "metadata": {},
   "outputs": [],
   "source": [
    "hourlyWeatherDF2019['WindGust_mph'] = hourlyWeatherDF2019['WindGust_mph'].astype(int)"
   ]
  },
  {
   "cell_type": "code",
   "execution_count": 36,
   "metadata": {},
   "outputs": [],
   "source": [
    "weather2019Clean = hourlyWeatherDF2019.drop(hourlyWeatherDF2019.index[0])"
   ]
  },
  {
   "cell_type": "code",
   "execution_count": 37,
   "metadata": {},
   "outputs": [],
   "source": [
    "weather2019Clean.to_csv(r'Output/weather_wind.csv', index = False)"
   ]
  },
  {
   "cell_type": "code",
   "execution_count": 38,
   "metadata": {},
   "outputs": [
    {
     "data": {
      "text/html": [
       "<div>\n",
       "<style scoped>\n",
       "    .dataframe tbody tr th:only-of-type {\n",
       "        vertical-align: middle;\n",
       "    }\n",
       "\n",
       "    .dataframe tbody tr th {\n",
       "        vertical-align: top;\n",
       "    }\n",
       "\n",
       "    .dataframe thead th {\n",
       "        text-align: right;\n",
       "    }\n",
       "</style>\n",
       "<table border=\"1\" class=\"dataframe\">\n",
       "  <thead>\n",
       "    <tr style=\"text-align: right;\">\n",
       "      <th></th>\n",
       "      <th>time</th>\n",
       "      <th>WindSpeed_mph</th>\n",
       "      <th>WindDirection_degrees</th>\n",
       "      <th>WindDirection_compass</th>\n",
       "      <th>WindGust_mph</th>\n",
       "    </tr>\n",
       "  </thead>\n",
       "  <tbody>\n",
       "    <tr>\n",
       "      <th>1</th>\n",
       "      <td>2019-01-01 01:00:00</td>\n",
       "      <td>13</td>\n",
       "      <td>89</td>\n",
       "      <td>E</td>\n",
       "      <td>23</td>\n",
       "    </tr>\n",
       "    <tr>\n",
       "      <th>2</th>\n",
       "      <td>2019-01-01 02:00:00</td>\n",
       "      <td>14</td>\n",
       "      <td>53</td>\n",
       "      <td>NE</td>\n",
       "      <td>23</td>\n",
       "    </tr>\n",
       "    <tr>\n",
       "      <th>3</th>\n",
       "      <td>2019-01-01 03:00:00</td>\n",
       "      <td>15</td>\n",
       "      <td>17</td>\n",
       "      <td>NNE</td>\n",
       "      <td>22</td>\n",
       "    </tr>\n",
       "    <tr>\n",
       "      <th>4</th>\n",
       "      <td>2019-01-01 04:00:00</td>\n",
       "      <td>14</td>\n",
       "      <td>18</td>\n",
       "      <td>NNE</td>\n",
       "      <td>21</td>\n",
       "    </tr>\n",
       "    <tr>\n",
       "      <th>5</th>\n",
       "      <td>2019-01-01 05:00:00</td>\n",
       "      <td>14</td>\n",
       "      <td>19</td>\n",
       "      <td>NNE</td>\n",
       "      <td>20</td>\n",
       "    </tr>\n",
       "    <tr>\n",
       "      <th>...</th>\n",
       "      <td>...</td>\n",
       "      <td>...</td>\n",
       "      <td>...</td>\n",
       "      <td>...</td>\n",
       "      <td>...</td>\n",
       "    </tr>\n",
       "    <tr>\n",
       "      <th>8755</th>\n",
       "      <td>2019-12-31 19:00:00</td>\n",
       "      <td>6</td>\n",
       "      <td>175</td>\n",
       "      <td>S</td>\n",
       "      <td>12</td>\n",
       "    </tr>\n",
       "    <tr>\n",
       "      <th>8756</th>\n",
       "      <td>2019-12-31 20:00:00</td>\n",
       "      <td>6</td>\n",
       "      <td>176</td>\n",
       "      <td>S</td>\n",
       "      <td>13</td>\n",
       "    </tr>\n",
       "    <tr>\n",
       "      <th>8757</th>\n",
       "      <td>2019-12-31 21:00:00</td>\n",
       "      <td>7</td>\n",
       "      <td>176</td>\n",
       "      <td>S</td>\n",
       "      <td>14</td>\n",
       "    </tr>\n",
       "    <tr>\n",
       "      <th>8758</th>\n",
       "      <td>2019-12-31 22:00:00</td>\n",
       "      <td>7</td>\n",
       "      <td>176</td>\n",
       "      <td>S</td>\n",
       "      <td>15</td>\n",
       "    </tr>\n",
       "    <tr>\n",
       "      <th>8759</th>\n",
       "      <td>2019-12-31 23:00:00</td>\n",
       "      <td>7</td>\n",
       "      <td>175</td>\n",
       "      <td>S</td>\n",
       "      <td>16</td>\n",
       "    </tr>\n",
       "  </tbody>\n",
       "</table>\n",
       "<p>8759 rows × 5 columns</p>\n",
       "</div>"
      ],
      "text/plain": [
       "                    time  WindSpeed_mph  WindDirection_degrees  \\\n",
       "1    2019-01-01 01:00:00             13                     89   \n",
       "2    2019-01-01 02:00:00             14                     53   \n",
       "3    2019-01-01 03:00:00             15                     17   \n",
       "4    2019-01-01 04:00:00             14                     18   \n",
       "5    2019-01-01 05:00:00             14                     19   \n",
       "...                  ...            ...                    ...   \n",
       "8755 2019-12-31 19:00:00              6                    175   \n",
       "8756 2019-12-31 20:00:00              6                    176   \n",
       "8757 2019-12-31 21:00:00              7                    176   \n",
       "8758 2019-12-31 22:00:00              7                    176   \n",
       "8759 2019-12-31 23:00:00              7                    175   \n",
       "\n",
       "     WindDirection_compass  WindGust_mph  \n",
       "1                        E            23  \n",
       "2                       NE            23  \n",
       "3                      NNE            22  \n",
       "4                      NNE            21  \n",
       "5                      NNE            20  \n",
       "...                    ...           ...  \n",
       "8755                     S            12  \n",
       "8756                     S            13  \n",
       "8757                     S            14  \n",
       "8758                     S            15  \n",
       "8759                     S            16  \n",
       "\n",
       "[8759 rows x 5 columns]"
      ]
     },
     "execution_count": 38,
     "metadata": {},
     "output_type": "execute_result"
    }
   ],
   "source": [
    "weather2019Clean.copy()"
   ]
  },
  {
   "cell_type": "markdown",
   "metadata": {},
   "source": [
    "# Importing and Performing ETL on Hackberry Wind Energy Data"
   ]
  },
  {
   "cell_type": "code",
   "execution_count": 39,
   "metadata": {},
   "outputs": [
    {
     "data": {
      "text/html": [
       "<div>\n",
       "<style scoped>\n",
       "    .dataframe tbody tr th:only-of-type {\n",
       "        vertical-align: middle;\n",
       "    }\n",
       "\n",
       "    .dataframe tbody tr th {\n",
       "        vertical-align: top;\n",
       "    }\n",
       "\n",
       "    .dataframe thead th {\n",
       "        text-align: right;\n",
       "    }\n",
       "</style>\n",
       "<table border=\"1\" class=\"dataframe\">\n",
       "  <thead>\n",
       "    <tr style=\"text-align: right;\">\n",
       "      <th></th>\n",
       "      <th>Unit</th>\n",
       "      <th>Date</th>\n",
       "      <th>Hour Ending</th>\n",
       "      <th>MWH</th>\n",
       "    </tr>\n",
       "  </thead>\n",
       "  <tbody>\n",
       "    <tr>\n",
       "      <th>0</th>\n",
       "      <td>HWF_HWFG1</td>\n",
       "      <td>20190101</td>\n",
       "      <td>100</td>\n",
       "      <td>110.487950</td>\n",
       "    </tr>\n",
       "    <tr>\n",
       "      <th>1</th>\n",
       "      <td>HWF_HWFG1</td>\n",
       "      <td>20190101</td>\n",
       "      <td>200</td>\n",
       "      <td>72.020225</td>\n",
       "    </tr>\n",
       "    <tr>\n",
       "      <th>2</th>\n",
       "      <td>HWF_HWFG1</td>\n",
       "      <td>20190101</td>\n",
       "      <td>300</td>\n",
       "      <td>67.639475</td>\n",
       "    </tr>\n",
       "    <tr>\n",
       "      <th>3</th>\n",
       "      <td>HWF_HWFG1</td>\n",
       "      <td>20190101</td>\n",
       "      <td>400</td>\n",
       "      <td>63.718900</td>\n",
       "    </tr>\n",
       "    <tr>\n",
       "      <th>4</th>\n",
       "      <td>HWF_HWFG1</td>\n",
       "      <td>20190101</td>\n",
       "      <td>500</td>\n",
       "      <td>61.264250</td>\n",
       "    </tr>\n",
       "    <tr>\n",
       "      <th>...</th>\n",
       "      <td>...</td>\n",
       "      <td>...</td>\n",
       "      <td>...</td>\n",
       "      <td>...</td>\n",
       "    </tr>\n",
       "    <tr>\n",
       "      <th>13866</th>\n",
       "      <td>HWF_HWFG1</td>\n",
       "      <td>20200731</td>\n",
       "      <td>2000</td>\n",
       "      <td>4.998600</td>\n",
       "    </tr>\n",
       "    <tr>\n",
       "      <th>13867</th>\n",
       "      <td>HWF_HWFG1</td>\n",
       "      <td>20200731</td>\n",
       "      <td>2100</td>\n",
       "      <td>16.390275</td>\n",
       "    </tr>\n",
       "    <tr>\n",
       "      <th>13868</th>\n",
       "      <td>HWF_HWFG1</td>\n",
       "      <td>20200731</td>\n",
       "      <td>2200</td>\n",
       "      <td>20.637800</td>\n",
       "    </tr>\n",
       "    <tr>\n",
       "      <th>13869</th>\n",
       "      <td>HWF_HWFG1</td>\n",
       "      <td>20200731</td>\n",
       "      <td>2300</td>\n",
       "      <td>13.998975</td>\n",
       "    </tr>\n",
       "    <tr>\n",
       "      <th>13870</th>\n",
       "      <td>HWF_HWFG1</td>\n",
       "      <td>20200731</td>\n",
       "      <td>2400</td>\n",
       "      <td>12.494875</td>\n",
       "    </tr>\n",
       "  </tbody>\n",
       "</table>\n",
       "<p>13871 rows × 4 columns</p>\n",
       "</div>"
      ],
      "text/plain": [
       "            Unit      Date Hour Ending         MWH\n",
       "0      HWF_HWFG1  20190101         100  110.487950\n",
       "1      HWF_HWFG1  20190101         200   72.020225\n",
       "2      HWF_HWFG1  20190101         300   67.639475\n",
       "3      HWF_HWFG1  20190101         400   63.718900\n",
       "4      HWF_HWFG1  20190101         500   61.264250\n",
       "...          ...       ...         ...         ...\n",
       "13866  HWF_HWFG1  20200731        2000    4.998600\n",
       "13867  HWF_HWFG1  20200731        2100   16.390275\n",
       "13868  HWF_HWFG1  20200731        2200   20.637800\n",
       "13869  HWF_HWFG1  20200731        2300   13.998975\n",
       "13870  HWF_HWFG1  20200731        2400   12.494875\n",
       "\n",
       "[13871 rows x 4 columns]"
      ]
     },
     "execution_count": 39,
     "metadata": {},
     "output_type": "execute_result"
    }
   ],
   "source": [
    "data = \"Resources/Hackberry_Generation.csv\"\n",
    "Hackberry_df = pd.read_csv(data)\n",
    "Hackberry_df"
   ]
  },
  {
   "cell_type": "code",
   "execution_count": 40,
   "metadata": {},
   "outputs": [
    {
     "data": {
      "text/plain": [
       "Unit            object\n",
       "Date             int64\n",
       "Hour Ending     object\n",
       "MWH            float64\n",
       "dtype: object"
      ]
     },
     "execution_count": 40,
     "metadata": {},
     "output_type": "execute_result"
    }
   ],
   "source": [
    "Hackberry_df.dtypes"
   ]
  },
  {
   "cell_type": "code",
   "execution_count": 41,
   "metadata": {},
   "outputs": [],
   "source": [
    "# Dropping Unit Column\n",
    "Hackberry_df = Hackberry_df.drop('Unit', 1)"
   ]
  },
  {
   "cell_type": "code",
   "execution_count": 42,
   "metadata": {},
   "outputs": [],
   "source": [
    "# Renaming column name from 'Hour Ending' to 'Hour'\n",
    "Hackberry_df.rename(columns = {'Hour Ending':'Hour'}, inplace = True)"
   ]
  },
  {
   "cell_type": "code",
   "execution_count": 43,
   "metadata": {},
   "outputs": [],
   "source": [
    "# Converting Date to datetime\n",
    "Hackberry_df['Date'] = pd.to_datetime(Hackberry_df['Date'], format='%Y%m%d')"
   ]
  },
  {
   "cell_type": "code",
   "execution_count": 44,
   "metadata": {},
   "outputs": [
    {
     "data": {
      "text/plain": [
       "Date    datetime64[ns]\n",
       "Hour            object\n",
       "MWH            float64\n",
       "dtype: object"
      ]
     },
     "execution_count": 44,
     "metadata": {},
     "output_type": "execute_result"
    }
   ],
   "source": [
    "# Checking data type\n",
    "Hackberry_df.dtypes"
   ]
  },
  {
   "cell_type": "code",
   "execution_count": 45,
   "metadata": {},
   "outputs": [],
   "source": [
    "# Removing the last two characters from the hour column as the times are hourly\n",
    "Hackberry_df['Hour'] = Hackberry_df['Hour'].astype(str).str[:-2].astype(np.int64)"
   ]
  },
  {
   "cell_type": "code",
   "execution_count": 46,
   "metadata": {},
   "outputs": [
    {
     "data": {
      "text/plain": [
       "Date    datetime64[ns]\n",
       "Hour             int64\n",
       "MWH            float64\n",
       "dtype: object"
      ]
     },
     "execution_count": 46,
     "metadata": {},
     "output_type": "execute_result"
    }
   ],
   "source": [
    "# Checking Hour data type\n",
    "Hackberry_df.dtypes"
   ]
  },
  {
   "cell_type": "code",
   "execution_count": 47,
   "metadata": {},
   "outputs": [],
   "source": [
    "Hackberry_df['hour'] =pd.to_timedelta(Hackberry_df['Hour'], unit='h')"
   ]
  },
  {
   "cell_type": "code",
   "execution_count": 48,
   "metadata": {},
   "outputs": [],
   "source": [
    "# Creating new column called 'hour' in timedelta format without date\n",
    "Hackberry_df['hour'] = Hackberry_df['hour'] - pd.to_timedelta(Hackberry_df['hour'].dt.days, unit='d')"
   ]
  },
  {
   "cell_type": "code",
   "execution_count": 49,
   "metadata": {},
   "outputs": [],
   "source": [
    "# Dropping the original 'Hour' column\n",
    "Hackberry_df = Hackberry_df.drop('Hour', 1)"
   ]
  },
  {
   "cell_type": "code",
   "execution_count": 50,
   "metadata": {},
   "outputs": [],
   "source": [
    "# Re-arranging the column headers\n",
    "Hackberry_df = Hackberry_df[[\"Date\", \"hour\", \"MWH\"]]"
   ]
  },
  {
   "cell_type": "code",
   "execution_count": 51,
   "metadata": {},
   "outputs": [
    {
     "data": {
      "text/plain": [
       "Date     datetime64[ns]\n",
       "hour    timedelta64[ns]\n",
       "MWH             float64\n",
       "dtype: object"
      ]
     },
     "execution_count": 51,
     "metadata": {},
     "output_type": "execute_result"
    }
   ],
   "source": [
    "Hackberry_df.dtypes"
   ]
  },
  {
   "cell_type": "code",
   "execution_count": 52,
   "metadata": {},
   "outputs": [],
   "source": [
    "# Combining Date and hour to a single column as they are in datetime and timedelta formats\n",
    "Hackberry_df['time'] = Hackberry_df['Date'] + Hackberry_df['hour']"
   ]
  },
  {
   "cell_type": "code",
   "execution_count": 53,
   "metadata": {},
   "outputs": [],
   "source": [
    "# Re-arranging the column headers and removing the Date and hour columns\n",
    "Hackberry_df = Hackberry_df[[\"time\", \"MWH\"]]"
   ]
  },
  {
   "cell_type": "code",
   "execution_count": 54,
   "metadata": {},
   "outputs": [
    {
     "data": {
      "text/plain": [
       "time    datetime64[ns]\n",
       "MWH            float64\n",
       "dtype: object"
      ]
     },
     "execution_count": 54,
     "metadata": {},
     "output_type": "execute_result"
    }
   ],
   "source": [
    "Hackberry_df.dtypes"
   ]
  },
  {
   "cell_type": "code",
   "execution_count": 55,
   "metadata": {},
   "outputs": [
    {
     "data": {
      "text/html": [
       "<div>\n",
       "<style scoped>\n",
       "    .dataframe tbody tr th:only-of-type {\n",
       "        vertical-align: middle;\n",
       "    }\n",
       "\n",
       "    .dataframe tbody tr th {\n",
       "        vertical-align: top;\n",
       "    }\n",
       "\n",
       "    .dataframe thead th {\n",
       "        text-align: right;\n",
       "    }\n",
       "</style>\n",
       "<table border=\"1\" class=\"dataframe\">\n",
       "  <thead>\n",
       "    <tr style=\"text-align: right;\">\n",
       "      <th></th>\n",
       "      <th>time</th>\n",
       "      <th>MWH</th>\n",
       "    </tr>\n",
       "  </thead>\n",
       "  <tbody>\n",
       "    <tr>\n",
       "      <th>0</th>\n",
       "      <td>2019-01-01 01:00:00</td>\n",
       "      <td>110.487950</td>\n",
       "    </tr>\n",
       "    <tr>\n",
       "      <th>1</th>\n",
       "      <td>2019-01-01 02:00:00</td>\n",
       "      <td>72.020225</td>\n",
       "    </tr>\n",
       "    <tr>\n",
       "      <th>2</th>\n",
       "      <td>2019-01-01 03:00:00</td>\n",
       "      <td>67.639475</td>\n",
       "    </tr>\n",
       "    <tr>\n",
       "      <th>3</th>\n",
       "      <td>2019-01-01 04:00:00</td>\n",
       "      <td>63.718900</td>\n",
       "    </tr>\n",
       "    <tr>\n",
       "      <th>4</th>\n",
       "      <td>2019-01-01 05:00:00</td>\n",
       "      <td>61.264250</td>\n",
       "    </tr>\n",
       "    <tr>\n",
       "      <th>...</th>\n",
       "      <td>...</td>\n",
       "      <td>...</td>\n",
       "    </tr>\n",
       "    <tr>\n",
       "      <th>13866</th>\n",
       "      <td>2020-07-31 20:00:00</td>\n",
       "      <td>4.998600</td>\n",
       "    </tr>\n",
       "    <tr>\n",
       "      <th>13867</th>\n",
       "      <td>2020-07-31 21:00:00</td>\n",
       "      <td>16.390275</td>\n",
       "    </tr>\n",
       "    <tr>\n",
       "      <th>13868</th>\n",
       "      <td>2020-07-31 22:00:00</td>\n",
       "      <td>20.637800</td>\n",
       "    </tr>\n",
       "    <tr>\n",
       "      <th>13869</th>\n",
       "      <td>2020-07-31 23:00:00</td>\n",
       "      <td>13.998975</td>\n",
       "    </tr>\n",
       "    <tr>\n",
       "      <th>13870</th>\n",
       "      <td>2020-07-31 00:00:00</td>\n",
       "      <td>12.494875</td>\n",
       "    </tr>\n",
       "  </tbody>\n",
       "</table>\n",
       "<p>13871 rows × 2 columns</p>\n",
       "</div>"
      ],
      "text/plain": [
       "                     time         MWH\n",
       "0     2019-01-01 01:00:00  110.487950\n",
       "1     2019-01-01 02:00:00   72.020225\n",
       "2     2019-01-01 03:00:00   67.639475\n",
       "3     2019-01-01 04:00:00   63.718900\n",
       "4     2019-01-01 05:00:00   61.264250\n",
       "...                   ...         ...\n",
       "13866 2020-07-31 20:00:00    4.998600\n",
       "13867 2020-07-31 21:00:00   16.390275\n",
       "13868 2020-07-31 22:00:00   20.637800\n",
       "13869 2020-07-31 23:00:00   13.998975\n",
       "13870 2020-07-31 00:00:00   12.494875\n",
       "\n",
       "[13871 rows x 2 columns]"
      ]
     },
     "execution_count": 55,
     "metadata": {},
     "output_type": "execute_result"
    }
   ],
   "source": [
    "Hackberry_df.copy()"
   ]
  },
  {
   "cell_type": "code",
   "execution_count": 56,
   "metadata": {},
   "outputs": [],
   "source": [
    "# Removing rows to include only 2019 year data to include same time range as wind data\n",
    "Hackberry2019 = Hackberry_df.drop(Hackberry_df.index[8759:13871])"
   ]
  },
  {
   "cell_type": "code",
   "execution_count": 57,
   "metadata": {},
   "outputs": [],
   "source": [
    "Hackberry2019.to_csv(r'Output/Hackberry_MHW.csv', index = False)"
   ]
  },
  {
   "cell_type": "markdown",
   "metadata": {},
   "source": [
    "## Merging Hackberry Energy Data with Wind Data"
   ]
  },
  {
   "cell_type": "code",
   "execution_count": 58,
   "metadata": {},
   "outputs": [],
   "source": [
    "hackberryWindMWH = pd.merge(weather2019Clean, Hackberry2019, on='time', how='outer')"
   ]
  },
  {
   "cell_type": "code",
   "execution_count": 59,
   "metadata": {},
   "outputs": [],
   "source": [
    "hackberryWindMWH =hackberryWindMWH.drop(hackberryWindMWH.index[8760])"
   ]
  },
  {
   "cell_type": "code",
   "execution_count": 60,
   "metadata": {},
   "outputs": [],
   "source": [
    "hackberryWindMWH.to_csv(r'Output/Hackberry_Wind_MHW.csv', index = False)"
   ]
  },
  {
   "cell_type": "code",
   "execution_count": 61,
   "metadata": {},
   "outputs": [
    {
     "data": {
      "text/html": [
       "<div>\n",
       "<style scoped>\n",
       "    .dataframe tbody tr th:only-of-type {\n",
       "        vertical-align: middle;\n",
       "    }\n",
       "\n",
       "    .dataframe tbody tr th {\n",
       "        vertical-align: top;\n",
       "    }\n",
       "\n",
       "    .dataframe thead th {\n",
       "        text-align: right;\n",
       "    }\n",
       "</style>\n",
       "<table border=\"1\" class=\"dataframe\">\n",
       "  <thead>\n",
       "    <tr style=\"text-align: right;\">\n",
       "      <th></th>\n",
       "      <th>time</th>\n",
       "      <th>WindSpeed_mph</th>\n",
       "      <th>WindDirection_degrees</th>\n",
       "      <th>WindDirection_compass</th>\n",
       "      <th>WindGust_mph</th>\n",
       "      <th>MWH</th>\n",
       "    </tr>\n",
       "  </thead>\n",
       "  <tbody>\n",
       "    <tr>\n",
       "      <th>0</th>\n",
       "      <td>2019-01-01 01:00:00</td>\n",
       "      <td>13.0</td>\n",
       "      <td>89.0</td>\n",
       "      <td>E</td>\n",
       "      <td>23.0</td>\n",
       "      <td>110.487950</td>\n",
       "    </tr>\n",
       "    <tr>\n",
       "      <th>1</th>\n",
       "      <td>2019-01-01 02:00:00</td>\n",
       "      <td>14.0</td>\n",
       "      <td>53.0</td>\n",
       "      <td>NE</td>\n",
       "      <td>23.0</td>\n",
       "      <td>72.020225</td>\n",
       "    </tr>\n",
       "    <tr>\n",
       "      <th>2</th>\n",
       "      <td>2019-01-01 03:00:00</td>\n",
       "      <td>15.0</td>\n",
       "      <td>17.0</td>\n",
       "      <td>NNE</td>\n",
       "      <td>22.0</td>\n",
       "      <td>67.639475</td>\n",
       "    </tr>\n",
       "    <tr>\n",
       "      <th>3</th>\n",
       "      <td>2019-01-01 04:00:00</td>\n",
       "      <td>14.0</td>\n",
       "      <td>18.0</td>\n",
       "      <td>NNE</td>\n",
       "      <td>21.0</td>\n",
       "      <td>63.718900</td>\n",
       "    </tr>\n",
       "    <tr>\n",
       "      <th>4</th>\n",
       "      <td>2019-01-01 05:00:00</td>\n",
       "      <td>14.0</td>\n",
       "      <td>19.0</td>\n",
       "      <td>NNE</td>\n",
       "      <td>20.0</td>\n",
       "      <td>61.264250</td>\n",
       "    </tr>\n",
       "    <tr>\n",
       "      <th>...</th>\n",
       "      <td>...</td>\n",
       "      <td>...</td>\n",
       "      <td>...</td>\n",
       "      <td>...</td>\n",
       "      <td>...</td>\n",
       "      <td>...</td>\n",
       "    </tr>\n",
       "    <tr>\n",
       "      <th>8755</th>\n",
       "      <td>2019-12-31 19:00:00</td>\n",
       "      <td>6.0</td>\n",
       "      <td>175.0</td>\n",
       "      <td>S</td>\n",
       "      <td>12.0</td>\n",
       "      <td>15.506725</td>\n",
       "    </tr>\n",
       "    <tr>\n",
       "      <th>8756</th>\n",
       "      <td>2019-12-31 20:00:00</td>\n",
       "      <td>6.0</td>\n",
       "      <td>176.0</td>\n",
       "      <td>S</td>\n",
       "      <td>13.0</td>\n",
       "      <td>32.191125</td>\n",
       "    </tr>\n",
       "    <tr>\n",
       "      <th>8757</th>\n",
       "      <td>2019-12-31 21:00:00</td>\n",
       "      <td>7.0</td>\n",
       "      <td>176.0</td>\n",
       "      <td>S</td>\n",
       "      <td>14.0</td>\n",
       "      <td>40.677250</td>\n",
       "    </tr>\n",
       "    <tr>\n",
       "      <th>8758</th>\n",
       "      <td>2019-12-31 22:00:00</td>\n",
       "      <td>7.0</td>\n",
       "      <td>176.0</td>\n",
       "      <td>S</td>\n",
       "      <td>15.0</td>\n",
       "      <td>45.826475</td>\n",
       "    </tr>\n",
       "    <tr>\n",
       "      <th>8759</th>\n",
       "      <td>2019-12-31 23:00:00</td>\n",
       "      <td>7.0</td>\n",
       "      <td>175.0</td>\n",
       "      <td>S</td>\n",
       "      <td>16.0</td>\n",
       "      <td>59.101325</td>\n",
       "    </tr>\n",
       "  </tbody>\n",
       "</table>\n",
       "<p>8760 rows × 6 columns</p>\n",
       "</div>"
      ],
      "text/plain": [
       "                    time  WindSpeed_mph  WindDirection_degrees  \\\n",
       "0    2019-01-01 01:00:00           13.0                   89.0   \n",
       "1    2019-01-01 02:00:00           14.0                   53.0   \n",
       "2    2019-01-01 03:00:00           15.0                   17.0   \n",
       "3    2019-01-01 04:00:00           14.0                   18.0   \n",
       "4    2019-01-01 05:00:00           14.0                   19.0   \n",
       "...                  ...            ...                    ...   \n",
       "8755 2019-12-31 19:00:00            6.0                  175.0   \n",
       "8756 2019-12-31 20:00:00            6.0                  176.0   \n",
       "8757 2019-12-31 21:00:00            7.0                  176.0   \n",
       "8758 2019-12-31 22:00:00            7.0                  176.0   \n",
       "8759 2019-12-31 23:00:00            7.0                  175.0   \n",
       "\n",
       "     WindDirection_compass  WindGust_mph         MWH  \n",
       "0                        E          23.0  110.487950  \n",
       "1                       NE          23.0   72.020225  \n",
       "2                      NNE          22.0   67.639475  \n",
       "3                      NNE          21.0   63.718900  \n",
       "4                      NNE          20.0   61.264250  \n",
       "...                    ...           ...         ...  \n",
       "8755                     S          12.0   15.506725  \n",
       "8756                     S          13.0   32.191125  \n",
       "8757                     S          14.0   40.677250  \n",
       "8758                     S          15.0   45.826475  \n",
       "8759                     S          16.0   59.101325  \n",
       "\n",
       "[8760 rows x 6 columns]"
      ]
     },
     "execution_count": 61,
     "metadata": {},
     "output_type": "execute_result"
    }
   ],
   "source": [
    "hackberryWindMWH.copy()"
   ]
  },
  {
   "cell_type": "code",
   "execution_count": 62,
   "metadata": {},
   "outputs": [],
   "source": [
    "hackberry = hackberryWindMWH.dropna()"
   ]
  },
  {
   "cell_type": "markdown",
   "metadata": {},
   "source": [
    "## Linear Regression"
   ]
  },
  {
   "cell_type": "code",
   "execution_count": 63,
   "metadata": {},
   "outputs": [],
   "source": [
    "import warnings\n",
    "warnings.filterwarnings('ignore')"
   ]
  },
  {
   "cell_type": "code",
   "execution_count": 64,
   "metadata": {},
   "outputs": [],
   "source": [
    "from pathlib import Path\n",
    "from collections import Counter\n",
    "import matplotlib.pyplot as plt\n",
    "from sklearn.linear_model import LinearRegression"
   ]
  },
  {
   "cell_type": "code",
   "execution_count": 65,
   "metadata": {},
   "outputs": [],
   "source": [
    "from sklearn.metrics import balanced_accuracy_score\n",
    "from sklearn.metrics import confusion_matrix\n",
    "from imblearn.metrics import classification_report_imbalanced"
   ]
  },
  {
   "cell_type": "code",
   "execution_count": 66,
   "metadata": {},
   "outputs": [
    {
     "data": {
      "image/png": "[encoded data removed]",
      "text/plain": [
       "<Figure size 432x288 with 1 Axes>"
      ]
     },
     "metadata": {
      "needs_background": "light"
     },
     "output_type": "display_data"
    }
   ],
   "source": [
    "# Visually inspect the data\n",
    "plt.scatter(hackberry.WindSpeed_mph, hackberry.MWH)\n",
    "plt.xlabel('Wind Speed')\n",
    "plt.ylabel('MHW')\n",
    "plt.show()"
   ]
  },
  {
   "cell_type": "code",
   "execution_count": 67,
   "metadata": {},
   "outputs": [
    {
     "data": {
      "image/png": "[encoded data removed]",
      "text/plain": [
       "<Figure size 432x288 with 1 Axes>"
      ]
     },
     "metadata": {
      "needs_background": "light"
     },
     "output_type": "display_data"
    }
   ],
   "source": [
    "# Visually inspect the data\n",
    "plt.scatter(hackberry.WindDirection_degrees, hackberry.MWH)\n",
    "plt.xlabel('Wind Direction')\n",
    "plt.ylabel('MHW')\n",
    "plt.show()"
   ]
  },
  {
   "cell_type": "code",
   "execution_count": 68,
   "metadata": {},
   "outputs": [
    {
     "data": {
      "image/png": "[encoded data removed]",
      "text/plain": [
       "<Figure size 432x288 with 1 Axes>"
      ]
     },
     "metadata": {
      "needs_background": "light"
     },
     "output_type": "display_data"
    }
   ],
   "source": [
    "# Visually inspect the data\n",
    "plt.scatter(hackberry.WindGust_mph, hackberry.MWH)\n",
    "plt.xlabel('Wind Gust')\n",
    "plt.ylabel('MHW')\n",
    "plt.show()"
   ]
  },
  {
   "cell_type": "markdown",
   "metadata": {},
   "source": [
    "##  It can be concluded that linear regression on wind speed alone does not track the power generated.  Direction of wind needs to be included."
   ]
  },
  {
   "cell_type": "code",
   "execution_count": 69,
   "metadata": {},
   "outputs": [],
   "source": [
    "# Creating dataframe with wind direction blowing east\n",
    "windEast = hackberry[hackberry.WindDirection_compass == 'E']"
   ]
  },
  {
   "cell_type": "code",
   "execution_count": 70,
   "metadata": {},
   "outputs": [
    {
     "data": {
      "image/png": "[encoded data removed]",
      "text/plain": [
       "<Figure size 432x288 with 1 Axes>"
      ]
     },
     "metadata": {
      "needs_background": "light"
     },
     "output_type": "display_data"
    }
   ],
   "source": [
    "# Visually inspect the data of wind speed to MWH for winds blowing east.\n",
    "plt.scatter(windEast.WindSpeed_mph, windEast.MWH)\n",
    "plt.xlabel('Wind Speed')\n",
    "plt.ylabel('MWH')\n",
    "plt.show()"
   ]
  },
  {
   "cell_type": "code",
   "execution_count": 71,
   "metadata": {},
   "outputs": [],
   "source": [
    "# Creating dataframe with wind direction blowing West\n",
    "windWest = hackberry[hackberry.WindDirection_compass == 'W']"
   ]
  },
  {
   "cell_type": "code",
   "execution_count": 72,
   "metadata": {},
   "outputs": [
    {
     "data": {
      "image/png": "[encoded data removed]",
      "text/plain": [
       "<Figure size 432x288 with 1 Axes>"
      ]
     },
     "metadata": {
      "needs_background": "light"
     },
     "output_type": "display_data"
    }
   ],
   "source": [
    "# Visually inspect the data of wind speed to MWH for winds blowing West.\n",
    "plt.scatter(windWest.WindSpeed_mph, windWest.MWH)\n",
    "plt.xlabel('Wind Speed')\n",
    "plt.ylabel('MWH')\n",
    "plt.show()"
   ]
  },
  {
   "cell_type": "code",
   "execution_count": 73,
   "metadata": {},
   "outputs": [],
   "source": [
    "# Creating dataframe with wind direction blowing south\n",
    "windSouth = hackberry[hackberry.WindDirection_compass == 'S']"
   ]
  },
  {
   "cell_type": "code",
   "execution_count": 74,
   "metadata": {},
   "outputs": [
    {
     "data": {
      "image/png": "[encoded data removed]",
      "text/plain": [
       "<Figure size 432x288 with 1 Axes>"
      ]
     },
     "metadata": {
      "needs_background": "light"
     },
     "output_type": "display_data"
    }
   ],
   "source": [
    "# Visually inspect the data of wind speed to MWH for winds blowing South.\n",
    "plt.scatter(windSouth.WindSpeed_mph, windSouth.MWH)\n",
    "plt.xlabel('Wind Speed')\n",
    "plt.ylabel('MWH')\n",
    "plt.show()"
   ]
  },
  {
   "cell_type": "code",
   "execution_count": 75,
   "metadata": {},
   "outputs": [],
   "source": [
    "# Creating dataframe with wind direction blowing North\n",
    "windNorth = hackberry[hackberry.WindDirection_compass == 'N']"
   ]
  },
  {
   "cell_type": "code",
   "execution_count": 76,
   "metadata": {},
   "outputs": [
    {
     "data": {
      "image/png": "[encoded data removed]",
      "text/plain": [
       "<Figure size 432x288 with 1 Axes>"
      ]
     },
     "metadata": {
      "needs_background": "light"
     },
     "output_type": "display_data"
    }
   ],
   "source": [
    "# Visually inspect the data of wind speed to MWH for winds blowing North.\n",
    "plt.scatter(windNorth.WindSpeed_mph, windNorth.MWH)\n",
    "plt.xlabel('Wind Speed')\n",
    "plt.ylabel('MWH')\n",
    "plt.show()"
   ]
  },
  {
   "cell_type": "code",
   "execution_count": 77,
   "metadata": {},
   "outputs": [],
   "source": [
    "# Creating dataframe with wind direction blowing NE\n",
    "windNE = hackberry[hackberry.WindDirection_compass == 'NE']"
   ]
  },
  {
   "cell_type": "code",
   "execution_count": 78,
   "metadata": {},
   "outputs": [
    {
     "data": {
      "image/png": "[encoded data removed]",
      "text/plain": [
       "<Figure size 432x288 with 1 Axes>"
      ]
     },
     "metadata": {
      "needs_background": "light"
     },
     "output_type": "display_data"
    }
   ],
   "source": [
    "# Visually inspect the data of wind speed to MWH for winds blowing NE.\n",
    "plt.scatter(windNE.WindSpeed_mph, windNE.MWH)\n",
    "plt.xlabel('Wind Speed')\n",
    "plt.ylabel('MWH')\n",
    "plt.show()"
   ]
  },
  {
   "cell_type": "code",
   "execution_count": 79,
   "metadata": {},
   "outputs": [],
   "source": [
    "# Creating dataframe with wind direction blowing NW\n",
    "windNW = hackberry[hackberry.WindDirection_compass == 'NW']"
   ]
  },
  {
   "cell_type": "code",
   "execution_count": 80,
   "metadata": {},
   "outputs": [
    {
     "data": {
      "image/png": "[encoded data removed]",
      "text/plain": [
       "<Figure size 432x288 with 1 Axes>"
      ]
     },
     "metadata": {
      "needs_background": "light"
     },
     "output_type": "display_data"
    }
   ],
   "source": [
    "# Visually inspect the data of wind speed to MWH for winds blowing NW.\n",
    "plt.scatter(windNW.WindSpeed_mph, windNW.MWH)\n",
    "plt.xlabel('Wind Speed')\n",
    "plt.ylabel('MWH')\n",
    "plt.show()"
   ]
  },
  {
   "cell_type": "code",
   "execution_count": 81,
   "metadata": {},
   "outputs": [],
   "source": [
    "# Creating dataframe with wind direction blowing NNE\n",
    "windNNE = hackberry[hackberry.WindDirection_compass == 'NNE']"
   ]
  },
  {
   "cell_type": "code",
   "execution_count": 82,
   "metadata": {},
   "outputs": [
    {
     "data": {
      "image/png": "[encoded data removed]",
      "text/plain": [
       "<Figure size 432x288 with 1 Axes>"
      ]
     },
     "metadata": {
      "needs_background": "light"
     },
     "output_type": "display_data"
    }
   ],
   "source": [
    "# Visually inspect the data of wind speed to MWH for winds blowing NNE.\n",
    "plt.scatter(windNNE.WindSpeed_mph, windNNE.MWH)\n",
    "plt.xlabel('Wind Speed')\n",
    "plt.ylabel('MWH')\n",
    "plt.show()"
   ]
  },
  {
   "cell_type": "code",
   "execution_count": 83,
   "metadata": {},
   "outputs": [],
   "source": [
    "# Creating dataframe with wind direction blowing NNW\n",
    "windNNW = hackberry[hackberry.WindDirection_compass == 'NNW']"
   ]
  },
  {
   "cell_type": "code",
   "execution_count": 84,
   "metadata": {},
   "outputs": [
    {
     "data": {
      "image/png": "[encoded data removed]",
      "text/plain": [
       "<Figure size 432x288 with 1 Axes>"
      ]
     },
     "metadata": {
      "needs_background": "light"
     },
     "output_type": "display_data"
    }
   ],
   "source": [
    "# Visually inspect the data of wind speed to MWH for winds blowing NNW.\n",
    "plt.scatter(windNNW.WindSpeed_mph, windNNW.MWH)\n",
    "plt.xlabel('Wind Speed')\n",
    "plt.ylabel('MWH')\n",
    "plt.show()"
   ]
  },
  {
   "cell_type": "code",
   "execution_count": 85,
   "metadata": {},
   "outputs": [],
   "source": [
    "# Creating a dictionary with wind direction\n",
    "#directions = {\n",
    "#    \"N\": 1,\n",
    "#   \"S\": 2,\n",
    "#   \"E\": 3,\n",
    "#   \"W\": 4,\n",
    "#   \"NE\": 5,\n",
    "#  \"NW\": 6,\n",
    "#   \"NNE\": 7,\n",
    "#   \"NNW\": 8,\n",
    "#   \"SE\": 11,\n",
    "#   \"SW\": 12,\n",
    "#   \"SSE\": 13,\n",
    "#    \"SSW\":14,\n",
    "#    \"WNW\":15,\n",
    "#    \"WSW\":16,\n",
    "#    \"ENE\":17,\n",
    "#    \"ESE\":18,\n",
    "    \n",
    "#}"
   ]
  },
  {
   "cell_type": "code",
   "execution_count": 86,
   "metadata": {},
   "outputs": [],
   "source": [
    "#hackberry[\"direction\"] = hackberry[\"WindDirection_compass\"].apply(lambda x: directions[x])"
   ]
  },
  {
   "cell_type": "code",
   "execution_count": 87,
   "metadata": {},
   "outputs": [],
   "source": [
    "hackberry.to_csv(r'Output/hackberry_encoded.csv', index = False)"
   ]
  },
  {
   "cell_type": "code",
   "execution_count": 88,
   "metadata": {},
   "outputs": [
    {
     "data": {
      "text/html": [
       "<div>\n",
       "<style scoped>\n",
       "    .dataframe tbody tr th:only-of-type {\n",
       "        vertical-align: middle;\n",
       "    }\n",
       "\n",
       "    .dataframe tbody tr th {\n",
       "        vertical-align: top;\n",
       "    }\n",
       "\n",
       "    .dataframe thead th {\n",
       "        text-align: right;\n",
       "    }\n",
       "</style>\n",
       "<table border=\"1\" class=\"dataframe\">\n",
       "  <thead>\n",
       "    <tr style=\"text-align: right;\">\n",
       "      <th></th>\n",
       "      <th>time</th>\n",
       "      <th>WindSpeed_mph</th>\n",
       "      <th>WindDirection_degrees</th>\n",
       "      <th>WindDirection_compass</th>\n",
       "      <th>WindGust_mph</th>\n",
       "      <th>MWH</th>\n",
       "    </tr>\n",
       "  </thead>\n",
       "  <tbody>\n",
       "    <tr>\n",
       "      <th>0</th>\n",
       "      <td>2019-01-01 01:00:00</td>\n",
       "      <td>13.0</td>\n",
       "      <td>89.0</td>\n",
       "      <td>E</td>\n",
       "      <td>23.0</td>\n",
       "      <td>110.487950</td>\n",
       "    </tr>\n",
       "    <tr>\n",
       "      <th>1</th>\n",
       "      <td>2019-01-01 02:00:00</td>\n",
       "      <td>14.0</td>\n",
       "      <td>53.0</td>\n",
       "      <td>NE</td>\n",
       "      <td>23.0</td>\n",
       "      <td>72.020225</td>\n",
       "    </tr>\n",
       "    <tr>\n",
       "      <th>2</th>\n",
       "      <td>2019-01-01 03:00:00</td>\n",
       "      <td>15.0</td>\n",
       "      <td>17.0</td>\n",
       "      <td>NNE</td>\n",
       "      <td>22.0</td>\n",
       "      <td>67.639475</td>\n",
       "    </tr>\n",
       "    <tr>\n",
       "      <th>3</th>\n",
       "      <td>2019-01-01 04:00:00</td>\n",
       "      <td>14.0</td>\n",
       "      <td>18.0</td>\n",
       "      <td>NNE</td>\n",
       "      <td>21.0</td>\n",
       "      <td>63.718900</td>\n",
       "    </tr>\n",
       "    <tr>\n",
       "      <th>4</th>\n",
       "      <td>2019-01-01 05:00:00</td>\n",
       "      <td>14.0</td>\n",
       "      <td>19.0</td>\n",
       "      <td>NNE</td>\n",
       "      <td>20.0</td>\n",
       "      <td>61.264250</td>\n",
       "    </tr>\n",
       "    <tr>\n",
       "      <th>...</th>\n",
       "      <td>...</td>\n",
       "      <td>...</td>\n",
       "      <td>...</td>\n",
       "      <td>...</td>\n",
       "      <td>...</td>\n",
       "      <td>...</td>\n",
       "    </tr>\n",
       "    <tr>\n",
       "      <th>8753</th>\n",
       "      <td>2019-12-31 19:00:00</td>\n",
       "      <td>6.0</td>\n",
       "      <td>175.0</td>\n",
       "      <td>S</td>\n",
       "      <td>12.0</td>\n",
       "      <td>15.506725</td>\n",
       "    </tr>\n",
       "    <tr>\n",
       "      <th>8754</th>\n",
       "      <td>2019-12-31 20:00:00</td>\n",
       "      <td>6.0</td>\n",
       "      <td>176.0</td>\n",
       "      <td>S</td>\n",
       "      <td>13.0</td>\n",
       "      <td>32.191125</td>\n",
       "    </tr>\n",
       "    <tr>\n",
       "      <th>8755</th>\n",
       "      <td>2019-12-31 21:00:00</td>\n",
       "      <td>7.0</td>\n",
       "      <td>176.0</td>\n",
       "      <td>S</td>\n",
       "      <td>14.0</td>\n",
       "      <td>40.677250</td>\n",
       "    </tr>\n",
       "    <tr>\n",
       "      <th>8756</th>\n",
       "      <td>2019-12-31 22:00:00</td>\n",
       "      <td>7.0</td>\n",
       "      <td>176.0</td>\n",
       "      <td>S</td>\n",
       "      <td>15.0</td>\n",
       "      <td>45.826475</td>\n",
       "    </tr>\n",
       "    <tr>\n",
       "      <th>8757</th>\n",
       "      <td>2019-12-31 23:00:00</td>\n",
       "      <td>7.0</td>\n",
       "      <td>175.0</td>\n",
       "      <td>S</td>\n",
       "      <td>16.0</td>\n",
       "      <td>59.101325</td>\n",
       "    </tr>\n",
       "  </tbody>\n",
       "</table>\n",
       "<p>8758 rows × 6 columns</p>\n",
       "</div>"
      ],
      "text/plain": [
       "                     time  WindSpeed_mph  WindDirection_degrees  \\\n",
       "0     2019-01-01 01:00:00           13.0                   89.0   \n",
       "1     2019-01-01 02:00:00           14.0                   53.0   \n",
       "2     2019-01-01 03:00:00           15.0                   17.0   \n",
       "3     2019-01-01 04:00:00           14.0                   18.0   \n",
       "4     2019-01-01 05:00:00           14.0                   19.0   \n",
       "...                   ...            ...                    ...   \n",
       "8753  2019-12-31 19:00:00            6.0                  175.0   \n",
       "8754  2019-12-31 20:00:00            6.0                  176.0   \n",
       "8755  2019-12-31 21:00:00            7.0                  176.0   \n",
       "8756  2019-12-31 22:00:00            7.0                  176.0   \n",
       "8757  2019-12-31 23:00:00            7.0                  175.0   \n",
       "\n",
       "     WindDirection_compass  WindGust_mph         MWH  \n",
       "0                        E          23.0  110.487950  \n",
       "1                       NE          23.0   72.020225  \n",
       "2                      NNE          22.0   67.639475  \n",
       "3                      NNE          21.0   63.718900  \n",
       "4                      NNE          20.0   61.264250  \n",
       "...                    ...           ...         ...  \n",
       "8753                     S          12.0   15.506725  \n",
       "8754                     S          13.0   32.191125  \n",
       "8755                     S          14.0   40.677250  \n",
       "8756                     S          15.0   45.826475  \n",
       "8757                     S          16.0   59.101325  \n",
       "\n",
       "[8758 rows x 6 columns]"
      ]
     },
     "execution_count": 88,
     "metadata": {},
     "output_type": "execute_result"
    }
   ],
   "source": [
    "data = \"Output/hackberry_encoded.csv\"\n",
    "hackberry_encoded = pd.read_csv(data)\n",
    "hackberry_encoded"
   ]
  },
  {
   "cell_type": "code",
   "execution_count": 89,
   "metadata": {},
   "outputs": [],
   "source": [
    "#hackberryEncoded = hackberry_encoded.drop([\"time\", \"WindDirection_compass\", \"direction\"], axis=1)"
   ]
  },
  {
   "cell_type": "code",
   "execution_count": 90,
   "metadata": {},
   "outputs": [],
   "source": [
    "hackberryEncoded = hackberry_encoded.drop([\"time\", \"WindDirection_compass\", \"WindDirection_compass\"], axis=1)"
   ]
  },
  {
   "cell_type": "code",
   "execution_count": 91,
   "metadata": {},
   "outputs": [],
   "source": [
    "hackberryEncoded[\"WindSpeed_mph\"] = hackberryEncoded[\"WindSpeed_mph\"].round(0).astype(int)"
   ]
  },
  {
   "cell_type": "code",
   "execution_count": 92,
   "metadata": {},
   "outputs": [],
   "source": [
    "hackberryEncoded[\"WindDirection_degrees\"] = hackberryEncoded[\"WindDirection_degrees\"].round(0).astype(int)"
   ]
  },
  {
   "cell_type": "code",
   "execution_count": 93,
   "metadata": {},
   "outputs": [],
   "source": [
    "hackberryEncoded[\"WindGust_mph\"] = hackberryEncoded[\"WindGust_mph\"].round(0).astype(int)"
   ]
  },
  {
   "cell_type": "code",
   "execution_count": 94,
   "metadata": {},
   "outputs": [],
   "source": [
    "hackberryEncoded[\"MWH\"] = hackberryEncoded[\"MWH\"].round(0).astype(int)"
   ]
  },
  {
   "cell_type": "code",
   "execution_count": 95,
   "metadata": {},
   "outputs": [
    {
     "data": {
      "text/plain": [
       "WindSpeed_mph            int32\n",
       "WindDirection_degrees    int32\n",
       "WindGust_mph             int32\n",
       "MWH                      int32\n",
       "dtype: object"
      ]
     },
     "execution_count": 95,
     "metadata": {},
     "output_type": "execute_result"
    }
   ],
   "source": [
    "hackberryEncoded.dtypes"
   ]
  },
  {
   "cell_type": "code",
   "execution_count": 96,
   "metadata": {},
   "outputs": [],
   "source": [
    "# Creating the scaler instance\n",
    "from sklearn.preprocessing import StandardScaler\n",
    "data_scaler = StandardScaler()"
   ]
  },
  {
   "cell_type": "code",
   "execution_count": 97,
   "metadata": {},
   "outputs": [],
   "source": [
    "hackberry_scaled = data_scaler.fit_transform(hackberryEncoded)"
   ]
  },
  {
   "cell_type": "code",
   "execution_count": 98,
   "metadata": {},
   "outputs": [
    {
     "data": {
      "text/plain": [
       "array([[ 0.3608004 , -1.05022902,  0.74188853,  1.22371389],\n",
       "       [ 0.56803347, -1.53116107,  0.74188853,  0.40867688],\n",
       "       [ 0.77526654, -2.01209313,  0.60454765,  0.32288351],\n",
       "       [ 0.56803347, -1.99873391,  0.46720677,  0.23709014],\n",
       "       [ 0.56803347, -1.98537468,  0.32986589,  0.17274512]])"
      ]
     },
     "execution_count": 98,
     "metadata": {},
     "output_type": "execute_result"
    }
   ],
   "source": [
    "hackberry_scaled[:5]"
   ]
  },
  {
   "cell_type": "code",
   "execution_count": 99,
   "metadata": {},
   "outputs": [
    {
     "name": "stdout",
     "output_type": "stream",
     "text": [
      "-1.1196037626729142e-16\n",
      "1.0\n"
     ]
    }
   ],
   "source": [
    "print(np.mean(hackberry_scaled[:,0]))\n",
    "print(np.std(hackberry_scaled[:,0]))"
   ]
  },
  {
   "cell_type": "code",
   "execution_count": 100,
   "metadata": {},
   "outputs": [
    {
     "data": {
      "text/html": [
       "<div>\n",
       "<style scoped>\n",
       "    .dataframe tbody tr th:only-of-type {\n",
       "        vertical-align: middle;\n",
       "    }\n",
       "\n",
       "    .dataframe tbody tr th {\n",
       "        vertical-align: top;\n",
       "    }\n",
       "\n",
       "    .dataframe thead th {\n",
       "        text-align: right;\n",
       "    }\n",
       "</style>\n",
       "<table border=\"1\" class=\"dataframe\">\n",
       "  <thead>\n",
       "    <tr style=\"text-align: right;\">\n",
       "      <th></th>\n",
       "      <th>WindSpeed_mph</th>\n",
       "      <th>WindDirection_degrees</th>\n",
       "      <th>WindGust_mph</th>\n",
       "    </tr>\n",
       "  </thead>\n",
       "  <tbody>\n",
       "    <tr>\n",
       "      <th>0</th>\n",
       "      <td>13</td>\n",
       "      <td>89</td>\n",
       "      <td>23</td>\n",
       "    </tr>\n",
       "    <tr>\n",
       "      <th>1</th>\n",
       "      <td>14</td>\n",
       "      <td>53</td>\n",
       "      <td>23</td>\n",
       "    </tr>\n",
       "    <tr>\n",
       "      <th>2</th>\n",
       "      <td>15</td>\n",
       "      <td>17</td>\n",
       "      <td>22</td>\n",
       "    </tr>\n",
       "    <tr>\n",
       "      <th>3</th>\n",
       "      <td>14</td>\n",
       "      <td>18</td>\n",
       "      <td>21</td>\n",
       "    </tr>\n",
       "    <tr>\n",
       "      <th>4</th>\n",
       "      <td>14</td>\n",
       "      <td>19</td>\n",
       "      <td>20</td>\n",
       "    </tr>\n",
       "  </tbody>\n",
       "</table>\n",
       "</div>"
      ],
      "text/plain": [
       "   WindSpeed_mph  WindDirection_degrees  WindGust_mph\n",
       "0             13                     89            23\n",
       "1             14                     53            23\n",
       "2             15                     17            22\n",
       "3             14                     18            21\n",
       "4             14                     19            20"
      ]
     },
     "execution_count": 100,
     "metadata": {},
     "output_type": "execute_result"
    }
   ],
   "source": [
    "# Define the features set.\n",
    "X = hackberryEncoded.copy()\n",
    "X = X.drop(\"MWH\", axis=1)\n",
    "X.head()"
   ]
  },
  {
   "cell_type": "code",
   "execution_count": 101,
   "metadata": {},
   "outputs": [
    {
     "data": {
      "text/plain": [
       "array([110,  72,  68,  64,  61])"
      ]
     },
     "execution_count": 101,
     "metadata": {},
     "output_type": "execute_result"
    }
   ],
   "source": [
    "# Define the target set.\n",
    "y = hackberryEncoded[\"MWH\"].ravel()\n",
    "y[:5]"
   ]
  },
  {
   "cell_type": "code",
   "execution_count": 102,
   "metadata": {},
   "outputs": [],
   "source": [
    "#split data into training and testing sets\n",
    "X_train, X_test, y_train, y_test = train_test_split(X, y, random_state=78)"
   ]
  },
  {
   "cell_type": "code",
   "execution_count": 103,
   "metadata": {},
   "outputs": [],
   "source": [
    "# Creating a StandardScaler instance.\n",
    "scaler = StandardScaler()\n",
    "# Fitting the Standard Scaler with the training data.\n",
    "X_scaler = scaler.fit(X_train)\n",
    "\n",
    "# Scaling the data.\n",
    "X_train_scaled = X_scaler.transform(X_train)\n",
    "X_test_scaled = X_scaler.transform(X_test)"
   ]
  },
  {
   "cell_type": "code",
   "execution_count": 104,
   "metadata": {},
   "outputs": [
    {
     "name": "stdout",
     "output_type": "stream",
     "text": [
      "(6568, 3)\n",
      "(2190, 3)\n",
      "(6568,)\n",
      "(2190,)\n"
     ]
    }
   ],
   "source": [
    "# Determine the shape of training and testing sets.\n",
    "print(X_train.shape)\n",
    "print(X_test.shape)\n",
    "print(y_train.shape)\n",
    "print(y_test.shape)"
   ]
  },
  {
   "cell_type": "code",
   "execution_count": 105,
   "metadata": {},
   "outputs": [
    {
     "data": {
      "text/plain": [
       "Counter({28: 50,\n",
       "         49: 39,\n",
       "         15: 61,\n",
       "         123: 25,\n",
       "         126: 22,\n",
       "         98: 28,\n",
       "         41: 38,\n",
       "         57: 33,\n",
       "         16: 79,\n",
       "         10: 73,\n",
       "         36: 45,\n",
       "         17: 69,\n",
       "         96: 30,\n",
       "         1: 287,\n",
       "         5: 109,\n",
       "         90: 21,\n",
       "         85: 19,\n",
       "         121: 25,\n",
       "         0: 398,\n",
       "         21: 70,\n",
       "         6: 107,\n",
       "         40: 54,\n",
       "         12: 66,\n",
       "         48: 41,\n",
       "         82: 30,\n",
       "         34: 53,\n",
       "         93: 17,\n",
       "         38: 53,\n",
       "         23: 50,\n",
       "         29: 45,\n",
       "         146: 21,\n",
       "         20: 61,\n",
       "         100: 22,\n",
       "         104: 25,\n",
       "         117: 20,\n",
       "         87: 29,\n",
       "         119: 31,\n",
       "         79: 27,\n",
       "         25: 47,\n",
       "         39: 36,\n",
       "         97: 31,\n",
       "         158: 19,\n",
       "         106: 23,\n",
       "         42: 59,\n",
       "         13: 88,\n",
       "         118: 23,\n",
       "         2: 108,\n",
       "         111: 21,\n",
       "         68: 32,\n",
       "         141: 15,\n",
       "         32: 50,\n",
       "         120: 22,\n",
       "         45: 55,\n",
       "         47: 45,\n",
       "         11: 89,\n",
       "         69: 38,\n",
       "         62: 36,\n",
       "         27: 49,\n",
       "         147: 17,\n",
       "         83: 24,\n",
       "         75: 23,\n",
       "         55: 40,\n",
       "         51: 46,\n",
       "         9: 75,\n",
       "         50: 32,\n",
       "         76: 45,\n",
       "         4: 107,\n",
       "         52: 39,\n",
       "         140: 21,\n",
       "         46: 41,\n",
       "         65: 29,\n",
       "         94: 28,\n",
       "         142: 17,\n",
       "         101: 36,\n",
       "         8: 88,\n",
       "         74: 26,\n",
       "         70: 29,\n",
       "         44: 49,\n",
       "         92: 29,\n",
       "         149: 16,\n",
       "         22: 62,\n",
       "         81: 30,\n",
       "         91: 40,\n",
       "         99: 29,\n",
       "         113: 15,\n",
       "         116: 23,\n",
       "         58: 30,\n",
       "         30: 51,\n",
       "         18: 64,\n",
       "         24: 62,\n",
       "         61: 44,\n",
       "         7: 99,\n",
       "         130: 26,\n",
       "         71: 38,\n",
       "         132: 21,\n",
       "         150: 16,\n",
       "         160: 23,\n",
       "         19: 66,\n",
       "         53: 31,\n",
       "         59: 49,\n",
       "         33: 51,\n",
       "         86: 28,\n",
       "         148: 19,\n",
       "         107: 22,\n",
       "         105: 23,\n",
       "         88: 32,\n",
       "         133: 17,\n",
       "         77: 33,\n",
       "         26: 51,\n",
       "         72: 33,\n",
       "         84: 36,\n",
       "         66: 41,\n",
       "         139: 16,\n",
       "         56: 34,\n",
       "         135: 20,\n",
       "         37: 46,\n",
       "         159: 12,\n",
       "         129: 27,\n",
       "         67: 26,\n",
       "         124: 19,\n",
       "         131: 21,\n",
       "         3: 108,\n",
       "         114: 19,\n",
       "         109: 25,\n",
       "         73: 29,\n",
       "         145: 17,\n",
       "         14: 65,\n",
       "         35: 59,\n",
       "         151: 14,\n",
       "         80: 32,\n",
       "         157: 16,\n",
       "         152: 17,\n",
       "         143: 20,\n",
       "         43: 40,\n",
       "         54: 41,\n",
       "         153: 12,\n",
       "         144: 16,\n",
       "         31: 51,\n",
       "         112: 23,\n",
       "         127: 22,\n",
       "         102: 21,\n",
       "         95: 24,\n",
       "         110: 30,\n",
       "         115: 21,\n",
       "         89: 24,\n",
       "         125: 25,\n",
       "         155: 21,\n",
       "         78: 30,\n",
       "         60: 40,\n",
       "         122: 21,\n",
       "         136: 18,\n",
       "         108: 25,\n",
       "         64: 27,\n",
       "         156: 16,\n",
       "         134: 16,\n",
       "         161: 5,\n",
       "         63: 31,\n",
       "         137: 27,\n",
       "         138: 18,\n",
       "         128: 12,\n",
       "         103: 21,\n",
       "         162: 5,\n",
       "         154: 18,\n",
       "         163: 4})"
      ]
     },
     "execution_count": 105,
     "metadata": {},
     "output_type": "execute_result"
    }
   ],
   "source": [
    "# Resample the training data with the RandomOversampler\n",
    "from imblearn.ensemble import BalancedRandomForestClassifier\n",
    "brfc = BalancedRandomForestClassifier(n_estimators=100, random_state=1)\n",
    "brfc.fit(X_train, y_train)\n",
    "Counter(y_train)"
   ]
  },
  {
   "cell_type": "code",
   "execution_count": 106,
   "metadata": {},
   "outputs": [
    {
     "data": {
      "text/plain": [
       "0.02521375509775414"
      ]
     },
     "execution_count": 106,
     "metadata": {},
     "output_type": "execute_result"
    }
   ],
   "source": [
    "# Calculated the balanced accuracy score\n",
    "y_pred = brfc.predict(X_test)\n",
    "balanced_accuracy_score(y_test, y_pred)"
   ]
  },
  {
   "cell_type": "code",
   "execution_count": 107,
   "metadata": {},
   "outputs": [
    {
     "data": {
      "text/plain": [
       "array([[61,  7,  9, ...,  0,  1,  0],\n",
       "       [ 8,  0,  2, ...,  0,  3,  1],\n",
       "       [ 5,  1,  1, ...,  0,  0,  0],\n",
       "       ...,\n",
       "       [ 0,  0,  0, ...,  0,  0,  0],\n",
       "       [ 0,  0,  0, ...,  0,  0,  0],\n",
       "       [ 0,  0,  0, ...,  0,  0,  0]], dtype=int64)"
      ]
     },
     "execution_count": 107,
     "metadata": {},
     "output_type": "execute_result"
    }
   ],
   "source": [
    "# Display the confusion matrix\n",
    "confusion_matrix(y_test, y_pred)"
   ]
  },
  {
   "cell_type": "code",
   "execution_count": 108,
   "metadata": {},
   "outputs": [
    {
     "name": "stdout",
     "output_type": "stream",
     "text": [
      "                   pre       rec       spe        f1       geo       iba       sup\n",
      "\n",
      "          0       0.54      0.40      0.97      0.46      0.63      0.37       151\n",
      "          1       0.00      0.00      1.00      0.00      0.00      0.00        96\n",
      "          2       0.04      0.03      0.99      0.03      0.16      0.02        39\n",
      "          3       0.05      0.05      0.98      0.05      0.22      0.05        39\n",
      "          4       0.05      0.09      0.98      0.07      0.29      0.08        35\n",
      "          5       0.08      0.06      0.99      0.07      0.24      0.05        33\n",
      "          6       0.05      0.03      0.99      0.04      0.18      0.03        30\n",
      "          7       0.06      0.06      0.99      0.06      0.25      0.06        32\n",
      "          8       0.06      0.04      0.99      0.05      0.19      0.03        27\n",
      "          9       0.00      0.00      0.99      0.00      0.00      0.00        28\n",
      "         10       0.12      0.12      0.99      0.12      0.35      0.11        16\n",
      "         11       0.00      0.00      1.00      0.00      0.00      0.00        18\n",
      "         12       0.00      0.00      0.99      0.00      0.00      0.00        20\n",
      "         13       0.00      0.00      0.99      0.00      0.00      0.00        26\n",
      "         14       0.13      0.07      0.99      0.09      0.26      0.06        30\n",
      "         15       0.00      0.00      0.99      0.00      0.00      0.00        20\n",
      "         16       0.00      0.00      1.00      0.00      0.00      0.00        21\n",
      "         17       0.00      0.00      0.99      0.00      0.00      0.00        24\n",
      "         18       0.00      0.00      0.99      0.00      0.00      0.00        23\n",
      "         19       0.00      0.00      1.00      0.00      0.00      0.00        27\n",
      "         20       0.00      0.00      0.99      0.00      0.00      0.00        18\n",
      "         21       0.00      0.00      0.99      0.00      0.00      0.00        19\n",
      "         22       0.00      0.00      0.99      0.00      0.00      0.00        19\n",
      "         23       0.00      0.00      0.99      0.00      0.00      0.00        11\n",
      "         24       0.00      0.00      1.00      0.00      0.00      0.00        18\n",
      "         25       0.06      0.05      0.99      0.05      0.23      0.05        19\n",
      "         26       0.00      0.00      0.99      0.00      0.00      0.00        16\n",
      "         27       0.00      0.00      1.00      0.00      0.00      0.00        16\n",
      "         28       0.00      0.00      1.00      0.00      0.00      0.00        21\n",
      "         29       0.10      0.09      0.99      0.09      0.30      0.08        22\n",
      "         30       0.00      0.00      0.99      0.00      0.00      0.00        14\n",
      "         31       0.00      0.00      0.99      0.00      0.00      0.00        15\n",
      "         32       0.05      0.05      0.99      0.05      0.23      0.05        19\n",
      "         33       0.00      0.00      1.00      0.00      0.00      0.00        13\n",
      "         34       0.00      0.00      1.00      0.00      0.00      0.00        12\n",
      "         35       0.00      0.00      1.00      0.00      0.00      0.00        12\n",
      "         36       0.00      0.00      1.00      0.00      0.00      0.00        14\n",
      "         37       0.00      0.00      1.00      0.00      0.00      0.00        17\n",
      "         38       0.00      0.00      1.00      0.00      0.00      0.00        10\n",
      "         39       0.00      0.00      1.00      0.00      0.00      0.00         9\n",
      "         40       0.00      0.00      1.00      0.00      0.00      0.00        16\n",
      "         41       0.00      0.00      1.00      0.00      0.00      0.00        20\n",
      "         42       0.00      0.00      1.00      0.00      0.00      0.00        15\n",
      "         43       0.00      0.00      0.99      0.00      0.00      0.00         9\n",
      "         44       0.00      0.00      1.00      0.00      0.00      0.00        16\n",
      "         45       0.00      0.00      1.00      0.00      0.00      0.00        16\n",
      "         46       0.00      0.00      0.99      0.00      0.00      0.00         9\n",
      "         47       0.00      0.00      0.99      0.00      0.00      0.00        18\n",
      "         48       0.00      0.00      1.00      0.00      0.00      0.00        14\n",
      "         49       0.06      0.08      0.99      0.07      0.28      0.07        13\n",
      "         50       0.00      0.00      0.99      0.00      0.00      0.00        10\n",
      "         51       0.00      0.00      1.00      0.00      0.00      0.00        10\n",
      "         52       0.00      0.00      1.00      0.00      0.00      0.00         9\n",
      "         53       0.00      0.00      0.99      0.00      0.00      0.00        13\n",
      "         54       0.00      0.00      1.00      0.00      0.00      0.00         9\n",
      "         55       0.00      0.00      1.00      0.00      0.00      0.00         9\n",
      "         56       0.00      0.00      0.99      0.00      0.00      0.00         7\n",
      "         57       0.00      0.00      0.99      0.00      0.00      0.00        12\n",
      "         58       0.00      0.00      0.99      0.00      0.00      0.00        17\n",
      "         59       0.00      0.00      1.00      0.00      0.00      0.00        16\n",
      "         60       0.00      0.00      1.00      0.00      0.00      0.00        14\n",
      "         61       0.00      0.00      1.00      0.00      0.00      0.00        11\n",
      "         62       0.00      0.00      1.00      0.00      0.00      0.00         5\n",
      "         63       0.00      0.00      1.00      0.00      0.00      0.00        10\n",
      "         64       0.00      0.00      0.99      0.00      0.00      0.00         9\n",
      "         65       0.00      0.00      0.99      0.00      0.00      0.00        10\n",
      "         66       0.00      0.00      1.00      0.00      0.00      0.00        13\n",
      "         67       0.12      0.18      0.99      0.15      0.43      0.17        11\n",
      "         68       0.12      0.07      1.00      0.09      0.27      0.06        14\n",
      "         69       0.00      0.00      1.00      0.00      0.00      0.00         7\n",
      "         70       0.00      0.00      1.00      0.00      0.00      0.00        13\n",
      "         71       0.00      0.00      1.00      0.00      0.00      0.00        10\n",
      "         72       0.00      0.00      1.00      0.00      0.00      0.00        12\n",
      "         73       0.00      0.00      0.99      0.00      0.00      0.00         9\n",
      "         74       0.00      0.00      0.99      0.00      0.00      0.00         9\n",
      "         75       0.00      0.00      0.99      0.00      0.00      0.00        11\n",
      "         76       0.00      0.00      1.00      0.00      0.00      0.00        11\n",
      "         77       0.07      0.07      0.99      0.07      0.26      0.06        15\n",
      "         78       0.00      0.00      0.99      0.00      0.00      0.00         9\n",
      "         79       0.00      0.00      0.99      0.00      0.00      0.00        13\n",
      "         80       0.10      0.10      1.00      0.10      0.32      0.09        10\n",
      "         81       0.00      0.00      0.99      0.00      0.00      0.00        13\n",
      "         82       0.00      0.00      1.00      0.00      0.00      0.00        13\n",
      "         83       0.00      0.00      0.99      0.00      0.00      0.00         8\n",
      "         84       0.00      0.00      1.00      0.00      0.00      0.00        10\n",
      "         85       0.00      0.00      0.99      0.00      0.00      0.00         5\n",
      "         86       0.00      0.00      0.99      0.00      0.00      0.00        11\n",
      "         87       0.00      0.00      1.00      0.00      0.00      0.00         9\n",
      "         88       0.00      0.00      0.99      0.00      0.00      0.00        15\n",
      "         89       0.00      0.00      0.99      0.00      0.00      0.00         9\n",
      "         90       0.00      0.00      0.99      0.00      0.00      0.00         3\n",
      "         91       0.00      0.00      1.00      0.00      0.00      0.00         8\n",
      "         92       0.00      0.00      1.00      0.00      0.00      0.00        15\n",
      "         93       0.00      0.00      0.99      0.00      0.00      0.00        10\n",
      "         94       0.00      0.00      1.00      0.00      0.00      0.00         8\n",
      "         95       0.00      0.00      0.99      0.00      0.00      0.00         7\n",
      "         96       0.00      0.00      1.00      0.00      0.00      0.00        10\n",
      "         97       0.11      0.08      1.00      0.10      0.29      0.08        12\n",
      "         98       0.00      0.00      0.99      0.00      0.00      0.00        10\n",
      "         99       0.00      0.00      1.00      0.00      0.00      0.00         9\n",
      "        100       0.00      0.00      0.99      0.00      0.00      0.00         7\n",
      "        101       0.00      0.00      1.00      0.00      0.00      0.00         8\n",
      "        102       0.00      0.00      0.99      0.00      0.00      0.00         3\n",
      "        103       0.00      0.00      1.00      0.00      0.00      0.00         3\n",
      "        104       0.00      0.00      0.99      0.00      0.00      0.00         9\n",
      "        105       0.09      0.11      1.00      0.10      0.33      0.10         9\n",
      "        106       0.00      0.00      0.99      0.00      0.00      0.00         6\n",
      "        107       0.00      0.00      1.00      0.00      0.00      0.00        12\n",
      "        108       0.00      0.00      1.00      0.00      0.00      0.00         8\n",
      "        109       0.08      0.11      0.99      0.09      0.33      0.10         9\n",
      "        110       0.00      0.00      0.99      0.00      0.00      0.00         6\n",
      "        111       0.00      0.00      1.00      0.00      0.00      0.00        10\n",
      "        112       0.00      0.00      1.00      0.00      0.00      0.00         6\n",
      "        113       0.00      0.00      0.99      0.00      0.00      0.00        11\n",
      "        114       0.07      0.12      0.99      0.09      0.35      0.11         8\n",
      "        115       0.00      0.00      1.00      0.00      0.00      0.00        11\n",
      "        116       0.00      0.00      0.99      0.00      0.00      0.00         8\n",
      "        117       0.00      0.00      1.00      0.00      0.00      0.00         9\n",
      "        118       0.00      0.00      1.00      0.00      0.00      0.00        13\n",
      "        119       0.00      0.00      1.00      0.00      0.00      0.00        13\n",
      "        120       0.00      0.00      1.00      0.00      0.00      0.00        13\n",
      "        121       0.00      0.00      1.00      0.00      0.00      0.00         7\n",
      "        122       0.00      0.00      0.99      0.00      0.00      0.00         8\n",
      "        123       0.07      0.20      0.99      0.11      0.45      0.18         5\n",
      "        124       0.00      0.00      1.00      0.00      0.00      0.00         9\n",
      "        125       0.00      0.00      0.99      0.00      0.00      0.00        11\n",
      "        126       0.00      0.00      0.99      0.00      0.00      0.00         8\n",
      "        127       0.00      0.00      1.00      0.00      0.00      0.00         7\n",
      "        128       0.00      0.00      0.99      0.00      0.00      0.00         7\n",
      "        129       0.00      0.00      0.99      0.00      0.00      0.00         4\n",
      "        130       0.00      0.00      1.00      0.00      0.00      0.00         5\n",
      "        131       0.00      0.00      0.99      0.00      0.00      0.00         7\n",
      "        132       0.00      0.00      1.00      0.00      0.00      0.00         9\n",
      "        133       0.00      0.00      1.00      0.00      0.00      0.00         6\n",
      "        134       0.00      0.00      1.00      0.00      0.00      0.00        11\n",
      "        135       0.00      0.00      1.00      0.00      0.00      0.00        10\n",
      "        136       0.00      0.00      0.99      0.00      0.00      0.00         7\n",
      "        137       0.00      0.00      1.00      0.00      0.00      0.00         6\n",
      "        138       0.00      0.00      1.00      0.00      0.00      0.00         7\n",
      "        139       0.00      0.00      0.99      0.00      0.00      0.00         7\n",
      "        140       0.00      0.00      1.00      0.00      0.00      0.00         6\n",
      "        141       0.00      0.00      1.00      0.00      0.00      0.00         3\n",
      "        142       0.00      0.00      0.99      0.00      0.00      0.00         6\n",
      "        143       0.07      0.20      0.99      0.10      0.45      0.18         5\n",
      "        144       0.06      0.17      0.99      0.09      0.41      0.15         6\n",
      "        145       0.00      0.00      1.00      0.00      0.00      0.00         5\n",
      "        146       0.00      0.00      1.00      0.00      0.00      0.00         3\n",
      "        147       0.00      0.00      1.00      0.00      0.00      0.00        10\n",
      "        148       0.00      0.00      0.99      0.00      0.00      0.00        12\n",
      "        149       0.00      0.00      0.99      0.00      0.00      0.00        14\n",
      "        150       0.00      0.00      0.99      0.00      0.00      0.00         8\n",
      "        151       0.00      0.00      1.00      0.00      0.00      0.00         7\n",
      "        152       0.00      0.00      0.99      0.00      0.00      0.00         3\n",
      "        153       0.08      0.20      0.99      0.11      0.45      0.18         5\n",
      "        154       0.05      1.00      0.99      0.10      1.00      0.99         1\n",
      "        155       0.00      0.00      1.00      0.00      0.00      0.00         5\n",
      "        156       0.00      0.00      0.99      0.00      0.00      0.00        10\n",
      "        157       0.05      0.12      0.99      0.07      0.35      0.11         8\n",
      "        158       0.00      0.00      1.00      0.00      0.00      0.00        14\n",
      "        159       0.11      0.14      1.00      0.12      0.38      0.13         7\n",
      "        160       0.00      0.00      0.99      0.00      0.00      0.00         7\n",
      "        161       0.00      0.00      0.99      0.00      0.00      0.00         1\n",
      "        162       0.00      0.00      0.99      0.00      0.00      0.00         3\n",
      "        163       0.00      0.00      0.99      0.00      0.00      0.00         0\n",
      "\n",
      "avg / total       0.05      0.04      0.99      0.05      0.10      0.04      2190\n",
      "\n"
     ]
    }
   ],
   "source": [
    "# Print the imbalanced classification report\n",
    "print(classification_report_imbalanced(y_test, y_pred))"
   ]
  },
  {
   "cell_type": "code",
   "execution_count": 109,
   "metadata": {},
   "outputs": [
    {
     "data": {
      "text/plain": [
       "[(0.5001359288232029, 'WindDirection_degrees'),\n",
       " (0.275789843139165, 'WindGust_mph'),\n",
       " (0.22407422803763222, 'WindSpeed_mph')]"
      ]
     },
     "execution_count": 109,
     "metadata": {},
     "output_type": "execute_result"
    }
   ],
   "source": [
    "# List the features sorted in descending order by feature importance\n",
    "importances = brfc.feature_importances_\n",
    "sorted(zip(brfc.feature_importances_, X.columns), reverse=True)"
   ]
  },
  {
   "cell_type": "code",
   "execution_count": null,
   "metadata": {},
   "outputs": [],
   "source": []
  }
 ],
 "metadata": {
  "kernelspec": {
   "display_name": "mlenv",
   "language": "python",
   "name": "mlenv"
  },
  "language_info": {
   "codemirror_mode": {
    "name": "ipython",
    "version": 3
   },
   "file_extension": ".py",
   "mimetype": "text/x-python",
   "name": "python",
   "nbconvert_exporter": "python",
   "pygments_lexer": "ipython3",
   "version": "3.7.7"
  }
 },
 "nbformat": 4,
 "nbformat_minor": 4
}
